{
  "nbformat": 4,
  "nbformat_minor": 0,
  "metadata": {
    "colab": {
      "name": "String.ipynb",
      "provenance": []
    },
    "kernelspec": {
      "name": "python3",
      "display_name": "Python 3"
    },
    "language_info": {
      "name": "python"
    }
  },
  "cells": [
    {
      "cell_type": "markdown",
      "source": [
        "### String\n",
        "-----------------------------------------------------------------------------\n",
        "Đọc thêm về String tại [Python String](https://www.w3schools.com/python/python_strings.asp)\n",
        "\n",
        "Chuỗi String cũng là một dạng **bất biến (immutable) và không thể thay đổi.**"
      ],
      "metadata": {
        "id": "LXl56GeZ4J-2"
      }
    },
    {
      "cell_type": "markdown",
      "source": [
        "#### I. Indexing\n",
        "  - Chuỗi bao gồm một tập hợp các ký tự sắp xếp tuần tự, mỗi ký tự đều có một **chỉ mục(index)** riêng.\n",
        "\n",
        "  - Chỉ mục được đánh 2 chiều từ trái qua phải và từ phải qua trái. Bên dưới là cách truy cập vào từng ký tự của chuỗi thông qua chỉ mục: **word[index]**"
      ],
      "metadata": {
        "id": "2sv6709T5jz3"
      }
    },
    {
      "cell_type": "code",
      "source": [
        "name = \"khoa\""
      ],
      "metadata": {
        "id": "Rfr6U-qy5uNs"
      },
      "execution_count": 1,
      "outputs": []
    },
    {
      "cell_type": "code",
      "source": [
        "name[0]"
      ],
      "metadata": {
        "colab": {
          "base_uri": "https://localhost:8080/",
          "height": 35
        },
        "id": "-RcXHYLd6G8V",
        "outputId": "f7afe967-b3aa-443a-d404-71bd0da191b3"
      },
      "execution_count": 2,
      "outputs": [
        {
          "output_type": "execute_result",
          "data": {
            "text/plain": [
              "'k'"
            ],
            "application/vnd.google.colaboratory.intrinsic+json": {
              "type": "string"
            }
          },
          "metadata": {},
          "execution_count": 2
        }
      ]
    },
    {
      "cell_type": "code",
      "source": [
        "name[2]"
      ],
      "metadata": {
        "colab": {
          "base_uri": "https://localhost:8080/",
          "height": 35
        },
        "id": "rb_jcXWk6bMd",
        "outputId": "a4044fa9-1774-41c3-94ed-8221fb81d183"
      },
      "execution_count": 3,
      "outputs": [
        {
          "output_type": "execute_result",
          "data": {
            "text/plain": [
              "'o'"
            ],
            "application/vnd.google.colaboratory.intrinsic+json": {
              "type": "string"
            }
          },
          "metadata": {},
          "execution_count": 3
        }
      ]
    },
    {
      "cell_type": "code",
      "source": [
        "# Truy cập vào phần tử cuối cùng\n",
        "# Điều này rất thuận lợi trong trường hợp chúng ta không biết cụ thể chiều dài chuỗi\n",
        "name[-1]"
      ],
      "metadata": {
        "colab": {
          "base_uri": "https://localhost:8080/",
          "height": 35
        },
        "id": "gCuHC3qn7oHH",
        "outputId": "5d87f6a7-a41a-498d-aeac-f51bdd0f286b"
      },
      "execution_count": 4,
      "outputs": [
        {
          "output_type": "execute_result",
          "data": {
            "text/plain": [
              "'a'"
            ],
            "application/vnd.google.colaboratory.intrinsic+json": {
              "type": "string"
            }
          },
          "metadata": {},
          "execution_count": 4
        }
      ]
    },
    {
      "cell_type": "markdown",
      "source": [
        "#### II. Hàm cắt chuỗi (String Slice)\n",
        "  Cú pháp: **string[begin:end]**\n",
        "\n",
        "Hàm này sẽ cắt chuỗi từ phần tử **ban đầu** cho đến phần tử **trước** phần tử **kết thúc**"
      ],
      "metadata": {
        "id": "U9Eo9aU17uun"
      }
    },
    {
      "cell_type": "code",
      "source": [
        "string = \"countingstar\""
      ],
      "metadata": {
        "id": "Exl1_8WU8SO7"
      },
      "execution_count": 5,
      "outputs": []
    },
    {
      "cell_type": "code",
      "source": [
        "# Cắt chuỗi từ phần tử có chỉ mục là 1 đến phần tử có chỉ mục nhỏ hơn 3\n",
        "# tức là chỉ lấy phần tử có chỉ mục là 1 và 2\n",
        "string[1:3]"
      ],
      "metadata": {
        "colab": {
          "base_uri": "https://localhost:8080/",
          "height": 35
        },
        "id": "o7y5dMwY8DDn",
        "outputId": "ee346801-b9a3-4405-ea49-480c59fbd7df"
      },
      "execution_count": 6,
      "outputs": [
        {
          "output_type": "execute_result",
          "data": {
            "text/plain": [
              "'ou'"
            ],
            "application/vnd.google.colaboratory.intrinsic+json": {
              "type": "string"
            }
          },
          "metadata": {},
          "execution_count": 6
        }
      ]
    },
    {
      "cell_type": "code",
      "source": [
        "# Cắt chuỗi từ phần tử có chỉ mục 5 cho đến hết\n",
        "string[5:]"
      ],
      "metadata": {
        "colab": {
          "base_uri": "https://localhost:8080/",
          "height": 35
        },
        "id": "xpyS_MQv8gV5",
        "outputId": "805216e1-eca9-43b9-b1bc-9856e71de8ce"
      },
      "execution_count": 7,
      "outputs": [
        {
          "output_type": "execute_result",
          "data": {
            "text/plain": [
              "'ingstar'"
            ],
            "application/vnd.google.colaboratory.intrinsic+json": {
              "type": "string"
            }
          },
          "metadata": {},
          "execution_count": 7
        }
      ]
    },
    {
      "cell_type": "code",
      "source": [
        "# Cho kết quả tương đương từ chỉ mục 5 đến hết\n",
        "string[-7:]"
      ],
      "metadata": {
        "colab": {
          "base_uri": "https://localhost:8080/",
          "height": 35
        },
        "id": "5PXKvItA86b1",
        "outputId": "94053a6e-5ba4-41d6-d2d9-3cecc30cc1bf"
      },
      "execution_count": 11,
      "outputs": [
        {
          "output_type": "execute_result",
          "data": {
            "text/plain": [
              "'ingstar'"
            ],
            "application/vnd.google.colaboratory.intrinsic+json": {
              "type": "string"
            }
          },
          "metadata": {},
          "execution_count": 11
        }
      ]
    },
    {
      "cell_type": "code",
      "source": [
        "# Cắt chuỗi từ đầu cho đến phần tử có chỉ mục 6\n",
        "string[:7]"
      ],
      "metadata": {
        "colab": {
          "base_uri": "https://localhost:8080/",
          "height": 35
        },
        "id": "LYaKrMCm9sM-",
        "outputId": "8b246c55-3561-4c85-a9bd-c29b20f710df"
      },
      "execution_count": 12,
      "outputs": [
        {
          "output_type": "execute_result",
          "data": {
            "text/plain": [
              "'countin'"
            ],
            "application/vnd.google.colaboratory.intrinsic+json": {
              "type": "string"
            }
          },
          "metadata": {},
          "execution_count": 12
        }
      ]
    },
    {
      "cell_type": "code",
      "source": [
        "# Cho kết quả tương tự từ đầu đến chỉ mục 6\n",
        "string[:-5]"
      ],
      "metadata": {
        "colab": {
          "base_uri": "https://localhost:8080/",
          "height": 35
        },
        "id": "y4nAdais-CS2",
        "outputId": "98261a82-e1d7-438a-c2b6-6e0ffb09bf83"
      },
      "execution_count": 13,
      "outputs": [
        {
          "output_type": "execute_result",
          "data": {
            "text/plain": [
              "'countin'"
            ],
            "application/vnd.google.colaboratory.intrinsic+json": {
              "type": "string"
            }
          },
          "metadata": {},
          "execution_count": 13
        }
      ]
    },
    {
      "cell_type": "code",
      "source": [
        "# Copy cả chuỗi \n",
        "string[:]"
      ],
      "metadata": {
        "colab": {
          "base_uri": "https://localhost:8080/",
          "height": 35
        },
        "id": "VBRt99PS-Xhx",
        "outputId": "e1725f68-47b5-4a84-b8b7-775b8636fc17"
      },
      "execution_count": 14,
      "outputs": [
        {
          "output_type": "execute_result",
          "data": {
            "text/plain": [
              "'countingstar'"
            ],
            "application/vnd.google.colaboratory.intrinsic+json": {
              "type": "string"
            }
          },
          "metadata": {},
          "execution_count": 14
        }
      ]
    },
    {
      "cell_type": "code",
      "source": [
        "# Trong trường hợp chỉ mục của phần tử cuối lớn hơn so với độ dài của chuỗi\n",
        "# hàm trả về chuỗi từ phần tử đầu cho đến hết chuỗi \n",
        "string[1:2000]"
      ],
      "metadata": {
        "colab": {
          "base_uri": "https://localhost:8080/",
          "height": 35
        },
        "id": "xi6rlpHp-3Xa",
        "outputId": "f9137864-4ac5-4eb8-f033-01df4f513b91"
      },
      "execution_count": 15,
      "outputs": [
        {
          "output_type": "execute_result",
          "data": {
            "text/plain": [
              "'ountingstar'"
            ],
            "application/vnd.google.colaboratory.intrinsic+json": {
              "type": "string"
            }
          },
          "metadata": {},
          "execution_count": 15
        }
      ]
    },
    {
      "cell_type": "markdown",
      "source": [
        "#### III. Các phương thức của String"
      ],
      "metadata": {
        "id": "LBcu53v2_YpM"
      }
    },
    {
      "cell_type": "markdown",
      "source": [
        "##### 1. lower()\n",
        "  - Trả về dạng chữ thường cho chuỗi"
      ],
      "metadata": {
        "id": "9Rw1O58D_jkT"
      }
    },
    {
      "cell_type": "code",
      "source": [
        "name = \"Nguyen Thi Hoa\""
      ],
      "metadata": {
        "id": "dnTCgcJA_p3u"
      },
      "execution_count": 17,
      "outputs": []
    },
    {
      "cell_type": "code",
      "source": [
        "name.lower()"
      ],
      "metadata": {
        "colab": {
          "base_uri": "https://localhost:8080/",
          "height": 35
        },
        "id": "zlbDNf0PADiH",
        "outputId": "d7c57810-a2dd-4650-89da-0be133e1ad10"
      },
      "execution_count": 18,
      "outputs": [
        {
          "output_type": "execute_result",
          "data": {
            "text/plain": [
              "'nguyen thi hoa'"
            ],
            "application/vnd.google.colaboratory.intrinsic+json": {
              "type": "string"
            }
          },
          "metadata": {},
          "execution_count": 18
        }
      ]
    },
    {
      "cell_type": "markdown",
      "source": [
        "##### 2. upper()\n",
        "  - Trả về dạng chữ hoa cho chuỗi"
      ],
      "metadata": {
        "id": "gf5l7-ZjAyW5"
      }
    },
    {
      "cell_type": "code",
      "source": [
        "name = \"nguyen anh khoa\""
      ],
      "metadata": {
        "id": "ou4vgXzZA3oP"
      },
      "execution_count": 19,
      "outputs": []
    },
    {
      "cell_type": "code",
      "source": [
        "name.upper()"
      ],
      "metadata": {
        "colab": {
          "base_uri": "https://localhost:8080/",
          "height": 35
        },
        "id": "WXe3SpQCBNeL",
        "outputId": "b8cc3089-403f-48c8-99a4-a9c3d8ca7007"
      },
      "execution_count": 20,
      "outputs": [
        {
          "output_type": "execute_result",
          "data": {
            "text/plain": [
              "'NGUYEN ANH KHOA'"
            ],
            "application/vnd.google.colaboratory.intrinsic+json": {
              "type": "string"
            }
          },
          "metadata": {},
          "execution_count": 20
        }
      ]
    },
    {
      "cell_type": "markdown",
      "source": [
        "##### 3. isalpha()\n",
        "  - Kiểm tra chuỗi có phải là toàn kí tự không ?"
      ],
      "metadata": {
        "id": "eAeY6g0OBoK-"
      }
    },
    {
      "cell_type": "code",
      "source": [
        "name = \"bich\""
      ],
      "metadata": {
        "id": "N86FsncEBvEd"
      },
      "execution_count": 24,
      "outputs": []
    },
    {
      "cell_type": "code",
      "source": [
        "name.isalpha()"
      ],
      "metadata": {
        "colab": {
          "base_uri": "https://localhost:8080/"
        },
        "id": "6e23eTQMCEUO",
        "outputId": "4187e0e2-e52d-4ff7-f907-e1e07002684e"
      },
      "execution_count": 25,
      "outputs": [
        {
          "output_type": "execute_result",
          "data": {
            "text/plain": [
              "True"
            ]
          },
          "metadata": {},
          "execution_count": 25
        }
      ]
    },
    {
      "cell_type": "code",
      "source": [
        "name1 = \"anhkhoa21\""
      ],
      "metadata": {
        "id": "wOcsCaN4CVPW"
      },
      "execution_count": 27,
      "outputs": []
    },
    {
      "cell_type": "code",
      "source": [
        "name1.isalpha()"
      ],
      "metadata": {
        "colab": {
          "base_uri": "https://localhost:8080/"
        },
        "id": "MT3wW7-CCah1",
        "outputId": "8a6fd3f9-58fc-47bb-c53a-436ea81d2e8b"
      },
      "execution_count": 28,
      "outputs": [
        {
          "output_type": "execute_result",
          "data": {
            "text/plain": [
              "False"
            ]
          },
          "metadata": {},
          "execution_count": 28
        }
      ]
    },
    {
      "cell_type": "markdown",
      "source": [
        "##### 4. isdigit()\n",
        "  - Kiểm tra chuỗi có phải toàn số không ?"
      ],
      "metadata": {
        "id": "DRjp1HGPDTd8"
      }
    },
    {
      "cell_type": "code",
      "source": [
        "number = \"24241\""
      ],
      "metadata": {
        "id": "Xx_Hnm9CDgSE"
      },
      "execution_count": 29,
      "outputs": []
    },
    {
      "cell_type": "code",
      "source": [
        "number.isdigit()"
      ],
      "metadata": {
        "colab": {
          "base_uri": "https://localhost:8080/"
        },
        "id": "UXQGJR4_DujG",
        "outputId": "cc44ff7c-8a37-4aa5-a0d7-b79c32df7b9e"
      },
      "execution_count": 30,
      "outputs": [
        {
          "output_type": "execute_result",
          "data": {
            "text/plain": [
              "True"
            ]
          },
          "metadata": {},
          "execution_count": 30
        }
      ]
    },
    {
      "cell_type": "code",
      "source": [
        "\"21\".isdigit()"
      ],
      "metadata": {
        "colab": {
          "base_uri": "https://localhost:8080/"
        },
        "id": "v7WbRI9_ESpb",
        "outputId": "8a53d713-35ad-4d77-ad49-80fa3065a0de"
      },
      "execution_count": 31,
      "outputs": [
        {
          "output_type": "execute_result",
          "data": {
            "text/plain": [
              "True"
            ]
          },
          "metadata": {},
          "execution_count": 31
        }
      ]
    },
    {
      "cell_type": "code",
      "source": [
        "\"Khoa21\".isdigit()"
      ],
      "metadata": {
        "colab": {
          "base_uri": "https://localhost:8080/"
        },
        "id": "lDiXZ1D1EXWQ",
        "outputId": "826a9b57-cb22-4c26-f13b-ea33c566b186"
      },
      "execution_count": 32,
      "outputs": [
        {
          "output_type": "execute_result",
          "data": {
            "text/plain": [
              "False"
            ]
          },
          "metadata": {},
          "execution_count": 32
        }
      ]
    },
    {
      "cell_type": "markdown",
      "source": [
        "##### 5. startswith()\n",
        "  - Kiểm tra chuỗi có bắt đầu bằng một chuỗi hay không ?"
      ],
      "metadata": {
        "id": "vRdz9jefEdQB"
      }
    },
    {
      "cell_type": "code",
      "source": [
        "\"khoa\".startswith(\"k\")"
      ],
      "metadata": {
        "colab": {
          "base_uri": "https://localhost:8080/"
        },
        "id": "cRg3DRQrEl6b",
        "outputId": "32e94fa7-62b1-4723-f7d6-d70767f97e57"
      },
      "execution_count": 33,
      "outputs": [
        {
          "output_type": "execute_result",
          "data": {
            "text/plain": [
              "True"
            ]
          },
          "metadata": {},
          "execution_count": 33
        }
      ]
    },
    {
      "cell_type": "code",
      "source": [
        "\"bich\".startswith(\"bi\")"
      ],
      "metadata": {
        "colab": {
          "base_uri": "https://localhost:8080/"
        },
        "id": "WTMJHqI5ExUc",
        "outputId": "981478ab-c7ce-4204-a75a-2cae4b5b3fa2"
      },
      "execution_count": 34,
      "outputs": [
        {
          "output_type": "execute_result",
          "data": {
            "text/plain": [
              "True"
            ]
          },
          "metadata": {},
          "execution_count": 34
        }
      ]
    },
    {
      "cell_type": "code",
      "source": [
        "\"lalaa\".startswith(\"ka\")"
      ],
      "metadata": {
        "colab": {
          "base_uri": "https://localhost:8080/"
        },
        "id": "MsRlb3ufE3Ka",
        "outputId": "c5e46200-abd0-416c-bd85-45481dd57c40"
      },
      "execution_count": 35,
      "outputs": [
        {
          "output_type": "execute_result",
          "data": {
            "text/plain": [
              "False"
            ]
          },
          "metadata": {},
          "execution_count": 35
        }
      ]
    },
    {
      "cell_type": "markdown",
      "source": [
        "##### 6. endswith()\n",
        "  - Kiểm tra chuỗi có kết thúc bằng một chuỗi hay không ?"
      ],
      "metadata": {
        "id": "xH-NbQJ_FA6X"
      }
    },
    {
      "cell_type": "code",
      "source": [
        "\"khoa\".endswith(\"a\")"
      ],
      "metadata": {
        "colab": {
          "base_uri": "https://localhost:8080/"
        },
        "id": "hgBOd2SoFH97",
        "outputId": "50d18de4-6ee5-48fd-83fe-20b79a4820a7"
      },
      "execution_count": 36,
      "outputs": [
        {
          "output_type": "execute_result",
          "data": {
            "text/plain": [
              "True"
            ]
          },
          "metadata": {},
          "execution_count": 36
        }
      ]
    },
    {
      "cell_type": "code",
      "source": [
        "\"bich\".endswith(\"ich\")"
      ],
      "metadata": {
        "colab": {
          "base_uri": "https://localhost:8080/"
        },
        "id": "zaSCteR6FQCH",
        "outputId": "c16f19a4-3eed-43f6-8e53-534e0e2e325e"
      },
      "execution_count": 37,
      "outputs": [
        {
          "output_type": "execute_result",
          "data": {
            "text/plain": [
              "True"
            ]
          },
          "metadata": {},
          "execution_count": 37
        }
      ]
    },
    {
      "cell_type": "code",
      "source": [
        "\"eiiyoo\".endswith(\"eee\")"
      ],
      "metadata": {
        "colab": {
          "base_uri": "https://localhost:8080/"
        },
        "id": "ZE0c7qmxFTm3",
        "outputId": "9e0206ba-e93e-41f3-adb8-0170e6a1e6f5"
      },
      "execution_count": 38,
      "outputs": [
        {
          "output_type": "execute_result",
          "data": {
            "text/plain": [
              "False"
            ]
          },
          "metadata": {},
          "execution_count": 38
        }
      ]
    },
    {
      "cell_type": "markdown",
      "source": [
        "##### 7. find()\n",
        "  Tìm một chuỗi nằm trong chuỗi cho trước Hàm trả về\n",
        "\n",
        "  - Vị trí (index) đầu tiên mà chuỗi đang tìm bắt đầu trong chuỗi cho trước\n",
        "  - -1 nếu chuỗi đang tìm không năm trong chuỗi cho trước"
      ],
      "metadata": {
        "id": "VdoghEvKFgB-"
      }
    },
    {
      "cell_type": "code",
      "source": [
        "string1 = \"nguyen anh khoa is so handsome man\""
      ],
      "metadata": {
        "id": "mUk-OE-hFqD0"
      },
      "execution_count": 41,
      "outputs": []
    },
    {
      "cell_type": "code",
      "source": [
        "# Trong trường hợp này chuỗi cho trước có chứa chuỗi cần tìm \n",
        "# và hàm trả về vị trí bắt đầu của chuỗi cần tìm trong chuỗi cho trước\n",
        "# Chú ý: Khoảng trắng cũng được tính là một phần tử có index\n",
        "string1.find(\"handsome\")"
      ],
      "metadata": {
        "colab": {
          "base_uri": "https://localhost:8080/"
        },
        "id": "-JhZOf5DGRLb",
        "outputId": "cd2073d5-faca-4028-a9e5-3fc3461c7dd9"
      },
      "execution_count": 42,
      "outputs": [
        {
          "output_type": "execute_result",
          "data": {
            "text/plain": [
              "22"
            ]
          },
          "metadata": {},
          "execution_count": 42
        }
      ]
    },
    {
      "cell_type": "code",
      "source": [
        "# Trả về -1 nếu không tìm thấy\n",
        "string1.find(\"girl\")"
      ],
      "metadata": {
        "colab": {
          "base_uri": "https://localhost:8080/"
        },
        "id": "yMDZrFgfG21Z",
        "outputId": "f6d45294-1314-4921-e52c-7206829d877f"
      },
      "execution_count": 44,
      "outputs": [
        {
          "output_type": "execute_result",
          "data": {
            "text/plain": [
              "-1"
            ]
          },
          "metadata": {},
          "execution_count": 44
        }
      ]
    },
    {
      "cell_type": "markdown",
      "source": [
        "##### 8. replace()\n",
        "  - Trả về một chuỗi mới đã được thay thế một từ một chuỗi cho trước"
      ],
      "metadata": {
        "id": "i-M2uhWoHRr7"
      }
    },
    {
      "cell_type": "code",
      "source": [
        "name = \"nguyen thi hoa\""
      ],
      "metadata": {
        "id": "x-wiUwUwHhlQ"
      },
      "execution_count": 45,
      "outputs": []
    },
    {
      "cell_type": "code",
      "source": [
        "name.replace(\"hoa\", \"khoa\")"
      ],
      "metadata": {
        "colab": {
          "base_uri": "https://localhost:8080/",
          "height": 35
        },
        "id": "Ubwwb_-LH8Lv",
        "outputId": "06e98854-c3a5-4728-fac4-2be5b4f9cb19"
      },
      "execution_count": 46,
      "outputs": [
        {
          "output_type": "execute_result",
          "data": {
            "text/plain": [
              "'nguyen thi khoa'"
            ],
            "application/vnd.google.colaboratory.intrinsic+json": {
              "type": "string"
            }
          },
          "metadata": {},
          "execution_count": 46
        }
      ]
    },
    {
      "cell_type": "markdown",
      "source": [
        "##### 9. split()\n",
        "  - Trả về một list các phần tử được chia cách bởi một dấu phân cách(delimiter) cho trước"
      ],
      "metadata": {
        "id": "Ukdmrz9yIF7s"
      }
    },
    {
      "cell_type": "code",
      "source": [
        "# Tách các phần từ phân cách bằng một khoảng trắng trong câu\n",
        "\"nguyen-anh-khoa\".split(\"-\")"
      ],
      "metadata": {
        "colab": {
          "base_uri": "https://localhost:8080/"
        },
        "id": "d8UrfmTWIP5X",
        "outputId": "787998f9-2fac-4aeb-b655-693e2e85c1aa"
      },
      "execution_count": 47,
      "outputs": [
        {
          "output_type": "execute_result",
          "data": {
            "text/plain": [
              "['nguyen', 'anh', 'khoa']"
            ]
          },
          "metadata": {},
          "execution_count": 47
        }
      ]
    },
    {
      "cell_type": "code",
      "source": [
        "\"nang thuy tinh\".split(\" \")"
      ],
      "metadata": {
        "colab": {
          "base_uri": "https://localhost:8080/"
        },
        "id": "kXIGtx4iIc7T",
        "outputId": "4c77bae7-99ec-4ed8-c658-899b019d8f5f"
      },
      "execution_count": 48,
      "outputs": [
        {
          "output_type": "execute_result",
          "data": {
            "text/plain": [
              "['nang', 'thuy', 'tinh']"
            ]
          },
          "metadata": {},
          "execution_count": 48
        }
      ]
    },
    {
      "cell_type": "markdown",
      "source": [
        "##### 10. join()\n",
        "  - Trả về một chuỗi được ghép bởi các phần tử từ một list theo một dấu phân cách cho trước"
      ],
      "metadata": {
        "id": "kX0lQ-OnIwfH"
      }
    },
    {
      "cell_type": "code",
      "source": [
        "lst = [\"a\", \"b\", \"c\", \"d\", \"e\", \"f\", \"g\"]"
      ],
      "metadata": {
        "id": "hK6hi_52I77r"
      },
      "execution_count": 50,
      "outputs": []
    },
    {
      "cell_type": "code",
      "source": [
        "lst"
      ],
      "metadata": {
        "colab": {
          "base_uri": "https://localhost:8080/"
        },
        "id": "v4xuNbqYJV6t",
        "outputId": "542b0bee-a210-4e2e-d686-d9e399a0d1f4"
      },
      "execution_count": 51,
      "outputs": [
        {
          "output_type": "execute_result",
          "data": {
            "text/plain": [
              "['a', 'b', 'c', 'd', 'e', 'f', 'g']"
            ]
          },
          "metadata": {},
          "execution_count": 51
        }
      ]
    },
    {
      "cell_type": "code",
      "source": [
        "\"-\".join(lst)"
      ],
      "metadata": {
        "colab": {
          "base_uri": "https://localhost:8080/",
          "height": 35
        },
        "id": "Kee5KqU-JXF7",
        "outputId": "4d998165-6335-488a-8747-db84c0365414"
      },
      "execution_count": 53,
      "outputs": [
        {
          "output_type": "execute_result",
          "data": {
            "text/plain": [
              "'a-b-c-d-e-f-g'"
            ],
            "application/vnd.google.colaboratory.intrinsic+json": {
              "type": "string"
            }
          },
          "metadata": {},
          "execution_count": 53
        }
      ]
    },
    {
      "cell_type": "markdown",
      "source": [
        "##### 11. strip()\n",
        "  - Trả về chuỗi mới được loại bỏ khoảng trắng 2 đầu"
      ],
      "metadata": {
        "id": "PKL6_S_WJy_P"
      }
    },
    {
      "cell_type": "code",
      "source": [
        "\"    Nguyen     Anh    Khoa   \".strip()"
      ],
      "metadata": {
        "colab": {
          "base_uri": "https://localhost:8080/",
          "height": 35
        },
        "id": "Ib_sYrU-J20o",
        "outputId": "edc7b1ee-28e6-44be-bf63-e388f24da474"
      },
      "execution_count": 54,
      "outputs": [
        {
          "output_type": "execute_result",
          "data": {
            "text/plain": [
              "'Nguyen     Anh    Khoa'"
            ],
            "application/vnd.google.colaboratory.intrinsic+json": {
              "type": "string"
            }
          },
          "metadata": {},
          "execution_count": 54
        }
      ]
    },
    {
      "cell_type": "markdown",
      "source": [
        "##### 12. capitalize()\n",
        "  - Trả về chuỗi mới được viết hoa đầu câu"
      ],
      "metadata": {
        "id": "31lqdHrsKxYn"
      }
    },
    {
      "cell_type": "code",
      "source": [
        "\"khoa\".capitalize()"
      ],
      "metadata": {
        "colab": {
          "base_uri": "https://localhost:8080/",
          "height": 35
        },
        "id": "m2dXIf0KLhQi",
        "outputId": "2090fa93-2847-4e42-809d-044ddd724fc2"
      },
      "execution_count": 55,
      "outputs": [
        {
          "output_type": "execute_result",
          "data": {
            "text/plain": [
              "'Khoa'"
            ],
            "application/vnd.google.colaboratory.intrinsic+json": {
              "type": "string"
            }
          },
          "metadata": {},
          "execution_count": 55
        }
      ]
    },
    {
      "cell_type": "code",
      "source": [
        "\"nguyen thi hoa\".capitalize()"
      ],
      "metadata": {
        "colab": {
          "base_uri": "https://localhost:8080/",
          "height": 35
        },
        "id": "vap7zoHQMcvS",
        "outputId": "633fb173-546a-4cc1-f9ec-d74eb78aa5dd"
      },
      "execution_count": 56,
      "outputs": [
        {
          "output_type": "execute_result",
          "data": {
            "text/plain": [
              "'Nguyen thi hoa'"
            ],
            "application/vnd.google.colaboratory.intrinsic+json": {
              "type": "string"
            }
          },
          "metadata": {},
          "execution_count": 56
        }
      ]
    },
    {
      "cell_type": "markdown",
      "source": [
        "##### 13. len()\n",
        "  - Trả về độ dài của một chuỗi"
      ],
      "metadata": {
        "id": "F1R6WmVJNlwP"
      }
    },
    {
      "cell_type": "code",
      "source": [
        "len(\"tommy shelby is cool\")"
      ],
      "metadata": {
        "colab": {
          "base_uri": "https://localhost:8080/"
        },
        "id": "0zHsk_zlNq4p",
        "outputId": "78dd1809-3851-47c8-a081-c70f7e789fe8"
      },
      "execution_count": 57,
      "outputs": [
        {
          "output_type": "execute_result",
          "data": {
            "text/plain": [
              "20"
            ]
          },
          "metadata": {},
          "execution_count": 57
        }
      ]
    },
    {
      "cell_type": "markdown",
      "source": [
        "#### IV. %\n",
        "  - Hàm hỗ trợ ghép biến vào trong chuỗi"
      ],
      "metadata": {
        "id": "Zu-nufv7N-6X"
      }
    },
    {
      "cell_type": "code",
      "source": [
        "\"I am red and I am %s\" %(\"blue\")"
      ],
      "metadata": {
        "colab": {
          "base_uri": "https://localhost:8080/",
          "height": 35
        },
        "id": "7kPk8g1DODY2",
        "outputId": "d0259a89-7d22-4dd0-d985-fac0efa6eb21"
      },
      "execution_count": 58,
      "outputs": [
        {
          "output_type": "execute_result",
          "data": {
            "text/plain": [
              "'I am red and I am blue'"
            ],
            "application/vnd.google.colaboratory.intrinsic+json": {
              "type": "string"
            }
          },
          "metadata": {},
          "execution_count": 58
        }
      ]
    },
    {
      "cell_type": "code",
      "source": [
        "# %d đại diện cho số\n",
        "# %s đại diện cho chuỗi\n",
        "\"I am %d and my name is %s and I studied at %s\" % (22, 'Nguyen Anh Khoa', 'Ton Duc Thang University')"
      ],
      "metadata": {
        "colab": {
          "base_uri": "https://localhost:8080/",
          "height": 35
        },
        "id": "nv13VDovO4z6",
        "outputId": "0c63123a-bae8-452d-fec0-262e02fc18e7"
      },
      "execution_count": 59,
      "outputs": [
        {
          "output_type": "execute_result",
          "data": {
            "text/plain": [
              "'I am 22 and my name is Nguyen Anh Khoa and I studied at Ton Duc Thang University'"
            ],
            "application/vnd.google.colaboratory.intrinsic+json": {
              "type": "string"
            }
          },
          "metadata": {},
          "execution_count": 59
        }
      ]
    },
    {
      "cell_type": "markdown",
      "source": [
        "#### V. Unicode"
      ],
      "metadata": {
        "id": "6sWx8pSEPwM7"
      }
    },
    {
      "cell_type": "code",
      "source": [
        "unicode_string = u'Tôi yêu bóng rổ'"
      ],
      "metadata": {
        "id": "MdGdeyNWPylw"
      },
      "execution_count": 64,
      "outputs": []
    },
    {
      "cell_type": "code",
      "source": [
        "unicode_string"
      ],
      "metadata": {
        "colab": {
          "base_uri": "https://localhost:8080/",
          "height": 35
        },
        "id": "zbtfr2cVQArg",
        "outputId": "95773a74-6616-4731-8d7e-922a738dce1c"
      },
      "execution_count": 65,
      "outputs": [
        {
          "output_type": "execute_result",
          "data": {
            "text/plain": [
              "'Tôi yêu bóng rổ'"
            ],
            "application/vnd.google.colaboratory.intrinsic+json": {
              "type": "string"
            }
          },
          "metadata": {},
          "execution_count": 65
        }
      ]
    },
    {
      "cell_type": "code",
      "source": [
        "# Convert chuỗi unicode thành bytes dạng utf-8\n",
        "b = unicode_string.encode('utf-8')"
      ],
      "metadata": {
        "id": "Xvm0DBKtQO5j"
      },
      "execution_count": 73,
      "outputs": []
    },
    {
      "cell_type": "code",
      "source": [
        "b"
      ],
      "metadata": {
        "colab": {
          "base_uri": "https://localhost:8080/"
        },
        "id": "86CiYl38QVHk",
        "outputId": "393e9017-bdb7-49fc-ddc4-57c47dbe999a"
      },
      "execution_count": 68,
      "outputs": [
        {
          "output_type": "execute_result",
          "data": {
            "text/plain": [
              "b'T\\xc3\\xb4i y\\xc3\\xaau b\\xc3\\xb3ng r\\xe1\\xbb\\x95'"
            ]
          },
          "metadata": {},
          "execution_count": 68
        }
      ]
    },
    {
      "cell_type": "code",
      "source": [
        "# Convert ngược lại từ encoded bytes thành chuỗi unicode\n",
        "u = b.decode('utf-8')"
      ],
      "metadata": {
        "id": "Y0jhlM9kQi2C"
      },
      "execution_count": 74,
      "outputs": []
    },
    {
      "cell_type": "code",
      "source": [
        "u"
      ],
      "metadata": {
        "colab": {
          "base_uri": "https://localhost:8080/",
          "height": 35
        },
        "id": "6oELqfWTRFr9",
        "outputId": "48825c04-a44b-435a-c2e5-699bad28f76e"
      },
      "execution_count": 75,
      "outputs": [
        {
          "output_type": "execute_result",
          "data": {
            "text/plain": [
              "'Tôi yêu bóng rổ'"
            ],
            "application/vnd.google.colaboratory.intrinsic+json": {
              "type": "string"
            }
          },
          "metadata": {},
          "execution_count": 75
        }
      ]
    },
    {
      "cell_type": "markdown",
      "source": [
        "###### Tìm hiểu thêm về String tại [Python String](https://www.tutorialspoint.com/python/python_strings.htm)"
      ],
      "metadata": {
        "id": "fYrC-N2UROsc"
      }
    }
  ]
}