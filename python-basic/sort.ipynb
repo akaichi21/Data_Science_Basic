{
  "nbformat": 4,
  "nbformat_minor": 0,
  "metadata": {
    "colab": {
      "name": "sort.ipynb",
      "provenance": [],
      "collapsed_sections": []
    },
    "kernelspec": {
      "name": "python3",
      "display_name": "Python 3"
    },
    "language_info": {
      "name": "python"
    }
  },
  "cells": [
    {
      "cell_type": "markdown",
      "source": [
        "### Sort\n",
        "-----------------------------------------------------------------------------\n",
        "\n",
        "Các thuật toán sắp xếp mảng trong Python, tìm hiểu thêm về [Sort Algorithms Python](https://realpython.com/sorting-algorithms-python/)"
      ],
      "metadata": {
        "id": "48ub_2SNWiie"
      }
    },
    {
      "cell_type": "markdown",
      "source": [
        "#### Bubble Sort\n",
        "Ý tưởng rất đơn giản:\n",
        "\n",
        "- Ta lặp qua từng phần tử một\n",
        "    - Tại một phần tử\n",
        "        - Ta lặp qua các phần tử còn lại\n",
        "            - Nếu phần tử nào trong các phần tử còn lại mà nhỏ hơn phần tử hiện tại thì thay thế phần tử hiện tại bằng phần tử nhỏ hơn đó."
      ],
      "metadata": {
        "id": "_gp-y2RwXZKD"
      }
    },
    {
      "cell_type": "code",
      "source": [
        "numbers = [21, 15, 5, 1, 8, 2001, 6]"
      ],
      "metadata": {
        "id": "J2mHMAfIYHE1"
      },
      "execution_count": 1,
      "outputs": []
    },
    {
      "cell_type": "code",
      "source": [
        "def bubble_sort(numbers):\n",
        "  for i in range(0, len(numbers)):\n",
        "    for j in range(i+1, len(numbers)):\n",
        "      if numbers[j] < numbers[i]:\n",
        "        tmp = numbers[j]\n",
        "        numbers[j] = numbers[i]\n",
        "        numbers[i] = tmp"
      ],
      "metadata": {
        "id": "yTu5SQYPYlyq"
      },
      "execution_count": 2,
      "outputs": []
    },
    {
      "cell_type": "code",
      "source": [
        "bubble_sort(numbers)"
      ],
      "metadata": {
        "id": "Fs0EdWFlZLVE"
      },
      "execution_count": 3,
      "outputs": []
    },
    {
      "cell_type": "code",
      "source": [
        "numbers"
      ],
      "metadata": {
        "colab": {
          "base_uri": "https://localhost:8080/"
        },
        "id": "ECoHIkSOZPeH",
        "outputId": "33a8d63e-6db0-4d36-ca6c-218eefccba35"
      },
      "execution_count": 4,
      "outputs": [
        {
          "output_type": "execute_result",
          "data": {
            "text/plain": [
              "[1, 5, 6, 8, 15, 21, 2001]"
            ]
          },
          "metadata": {},
          "execution_count": 4
        }
      ]
    },
    {
      "cell_type": "markdown",
      "source": [
        "![python-sorting-algorithms-bubble-sort.webp](data:image/webp;base64,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)"
      ],
      "metadata": {
        "id": "J79ocjh6dFlq"
      }
    },
    {
      "cell_type": "markdown",
      "source": [
        "Độ phức tạp của thuật toán là : **O(N^2)**"
      ],
      "metadata": {
        "id": "-Eik44koZYof"
      }
    },
    {
      "cell_type": "markdown",
      "source": [
        "#### Insertion Sort\n",
        "Ý tưởng:\n",
        "\n",
        "- Ta lặp qua từng phần tử một:\n",
        "    - Tại một phần tử\n",
        "        - Ta lặp qua các phần tử ở trước phần tử này:\n",
        "            - Tìm vị trí mà phần tử này nhỏ hơn các phần tử đằng trước\n",
        "            - Di chuyển tất cả các phần tử mà lớn hơn phần tử đó ra sau một đơn vị\n",
        "            - Đặt phần tử này vào vị trí đó (Đây chính là ý nghĩa Insertion(chèn))"
      ],
      "metadata": {
        "id": "iIb_RdoHZip_"
      }
    },
    {
      "cell_type": "code",
      "source": [
        "numbers1 = [200, 1000, 90, 300, 40, 500, 1]"
      ],
      "metadata": {
        "id": "QjV_OMUgbO3y"
      },
      "execution_count": 12,
      "outputs": []
    },
    {
      "cell_type": "code",
      "source": [
        "def insertion_sort(numbers):\n",
        "  for i in range(1, len(numbers)):\n",
        "    j = i - 1\n",
        "    curr = numbers[i]\n",
        "    while j >= 0 and curr < numbers[j]:\n",
        "      numbers[j+1] = numbers[j]\n",
        "      j -= 1\n",
        "    numbers[j+1] = curr"
      ],
      "metadata": {
        "id": "h4QlBMuabfUl"
      },
      "execution_count": 13,
      "outputs": []
    },
    {
      "cell_type": "code",
      "source": [
        "insertion_sort(numbers1)"
      ],
      "metadata": {
        "id": "QGKYScaVcqep"
      },
      "execution_count": 14,
      "outputs": []
    },
    {
      "cell_type": "code",
      "source": [
        "numbers1"
      ],
      "metadata": {
        "colab": {
          "base_uri": "https://localhost:8080/"
        },
        "id": "eLF8CS6AcuKF",
        "outputId": "8be889ca-2828-4faf-cc26-7c0e0d865c2d"
      },
      "execution_count": 15,
      "outputs": [
        {
          "output_type": "execute_result",
          "data": {
            "text/plain": [
              "[1, 40, 90, 200, 300, 500, 1000]"
            ]
          },
          "metadata": {},
          "execution_count": 15
        }
      ]
    },
    {
      "cell_type": "markdown",
      "source": [
        "![python-sorting-algorithms-insertion-sort.webp](data:image/webp;base64,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)"
      ],
      "metadata": {
        "id": "3hbNRYycdK3t"
      }
    },
    {
      "cell_type": "markdown",
      "source": [
        "Độ phức tạp của thuật toán là : **O(N^2)**"
      ],
      "metadata": {
        "id": "8ram4uazdP5b"
      }
    },
    {
      "cell_type": "markdown",
      "source": [
        "#### Merge Sort\n",
        "Merge sort sử dụng giải thuật **divide and conquer**"
      ],
      "metadata": {
        "id": "y04-1VtVdiBm"
      }
    },
    {
      "cell_type": "code",
      "source": [
        "numbers2 = [20, 10, 16, 6, 89, 1, 5, 9, 100]"
      ],
      "metadata": {
        "id": "-fUT1A9WdpOP"
      },
      "execution_count": 16,
      "outputs": []
    },
    {
      "cell_type": "code",
      "source": [
        "# Divide\n",
        "def divide(numbers, start, end):\n",
        "    if start == end:\n",
        "        return [numbers[start]]\n",
        "    else:\n",
        "        middle = (start + end) // 2\n",
        "        left_numbers = divide(numbers, start, middle) \n",
        "        right_numbers = divide(numbers, middle+1, end)\n",
        "        return conquer(numbers, left_numbers, right_numbers)"
      ],
      "metadata": {
        "id": "OG_jDcWhd6oH"
      },
      "execution_count": 18,
      "outputs": []
    },
    {
      "cell_type": "code",
      "source": [
        "# Sort\n",
        "def conquer(numbers, left_numbers, right_numbers):\n",
        "    new_nums = []\n",
        "    i = 0\n",
        "    j = 0\n",
        "    while i < len(left_numbers) and j < len(right_numbers):\n",
        "        if left_numbers[i] < right_numbers[j]:\n",
        "            new_nums.append(left_numbers[i])\n",
        "            i += 1\n",
        "        else:\n",
        "            new_nums.append(right_numbers[j])\n",
        "            j += 1\n",
        "    if i < len(left_numbers):\n",
        "        new_nums += left_numbers[i:]\n",
        "        \n",
        "    if j < len(right_numbers):\n",
        "        new_nums += right_numbers[j:]\n",
        "    return new_nums"
      ],
      "metadata": {
        "id": "EZMjuItSd_a0"
      },
      "execution_count": 17,
      "outputs": []
    },
    {
      "cell_type": "code",
      "source": [
        "divide(numbers2, 0, len(numbers2)-1)"
      ],
      "metadata": {
        "colab": {
          "base_uri": "https://localhost:8080/"
        },
        "id": "qBkmtrrseB6v",
        "outputId": "c9dc0271-77d9-45c3-b5cb-0d8f1bd96134"
      },
      "execution_count": 19,
      "outputs": [
        {
          "output_type": "execute_result",
          "data": {
            "text/plain": [
              "[1, 5, 6, 9, 10, 16, 20, 89, 100]"
            ]
          },
          "metadata": {},
          "execution_count": 19
        }
      ]
    },
    {
      "cell_type": "markdown",
      "source": [
        "![python-sorting-algorithms-merge-sort.webp](data:image/webp;base64,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)"
      ],
      "metadata": {
        "id": "66h5WBo0eGOx"
      }
    },
    {
      "cell_type": "markdown",
      "source": [
        "Độ phức tạp của thuật toán là : **O(Nlog(N))**"
      ],
      "metadata": {
        "id": "yWOnuWQsePLV"
      }
    },
    {
      "cell_type": "markdown",
      "source": [
        "#### Quick Sort\n",
        "Lấy một biến ngẫu nhiên trong mảng được gọi là biến pivot ra sau đó chia theo từng level nhỏ hơn pivot, bằng pivot và lớn hơn pivot để chia ra làm các mảng nhỏ hơn và sau đó gộp lại để được mảng đã sắp xếp."
      ],
      "metadata": {
        "id": "-c9_iJ0xehaX"
      }
    },
    {
      "cell_type": "code",
      "source": [
        "from random import randint\n",
        "\n",
        "def quicksort(array):\n",
        "    if len(array) < 2:\n",
        "        return array\n",
        "\n",
        "    low, same, high = [], [], []\n",
        "\n",
        "    pivot = array[randint(0, len(array) - 1)]\n",
        "\n",
        "    for item in array:\n",
        "        if item < pivot:\n",
        "            low.append(item)\n",
        "        elif item == pivot:\n",
        "            same.append(item)\n",
        "        elif item > pivot:\n",
        "            high.append(item)\n",
        "\n",
        "    return quicksort(low) + same + quicksort(high)"
      ],
      "metadata": {
        "id": "8TQpAidWej8R"
      },
      "execution_count": 20,
      "outputs": []
    },
    {
      "cell_type": "code",
      "source": [
        "numbers3 = [8, 2, 6, 4, 5]"
      ],
      "metadata": {
        "id": "Igf1iIaGevvw"
      },
      "execution_count": 21,
      "outputs": []
    },
    {
      "cell_type": "code",
      "source": [
        "quicksort(numbers3)"
      ],
      "metadata": {
        "colab": {
          "base_uri": "https://localhost:8080/"
        },
        "id": "s11aeDo0e3OV",
        "outputId": "576421b5-9ffe-48a7-ce88-372bf6ec00c3"
      },
      "execution_count": 22,
      "outputs": [
        {
          "output_type": "execute_result",
          "data": {
            "text/plain": [
              "[2, 4, 5, 6, 8]"
            ]
          },
          "metadata": {},
          "execution_count": 22
        }
      ]
    },
    {
      "cell_type": "markdown",
      "source": [
        "![Python_Sorting_Algorithms_-_Quick_Sort.webp](data:image/webp;base64,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)"
      ],
      "metadata": {
        "id": "hRDZidB9e7Nu"
      }
    },
    {
      "cell_type": "markdown",
      "source": [
        "Độ phức tạp của thuật toán này là : **O(Nlog2(N))**"
      ],
      "metadata": {
        "id": "B4hopNexfs27"
      }
    },
    {
      "cell_type": "markdown",
      "source": [
        "Tìm hiểu kĩ hơn tại [Python Sorts](https://realpython.com/sorting-algorithms-python/)"
      ],
      "metadata": {
        "id": "Q8F8WNx4f1J0"
      }
    }
  ]
}