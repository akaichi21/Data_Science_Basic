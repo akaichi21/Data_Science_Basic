{
  "nbformat": 4,
  "nbformat_minor": 0,
  "metadata": {
    "colab": {
      "name": "list.ipynb",
      "provenance": [],
      "collapsed_sections": []
    },
    "kernelspec": {
      "name": "python3",
      "display_name": "Python 3"
    },
    "language_info": {
      "name": "python"
    }
  },
  "cells": [
    {
      "cell_type": "markdown",
      "source": [
        "### List\n",
        "-----------------------------------------------------------------------------\n",
        "Tham khảo thêm tại [Python Lists](https://www.w3schools.com/python/python_lists.asp)\n",
        "\n",
        "**List** là một **Collection** được sử dụng để lưu trữ các phần tử mà nó có thể được **sắp xếp** và **có thể thay đổi**. **List** có thể chứa 2 phần tử giống nhau."
      ],
      "metadata": {
        "id": "P7zrL2KvzuNg"
      }
    },
    {
      "cell_type": "markdown",
      "source": [
        "#### I. Khởi tạo một List\n",
        "\n",
        "![image.png](data:image/png;base64,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)"
      ],
      "metadata": {
        "id": "uZh06uS81afj"
      }
    },
    {
      "cell_type": "code",
      "source": [
        "# Cách 1\n",
        "letters_1 = [\"a\", \"b\", \"c\"]"
      ],
      "metadata": {
        "id": "xmmlmFMw1UTM"
      },
      "execution_count": null,
      "outputs": []
    },
    {
      "cell_type": "code",
      "source": [
        "letters_1"
      ],
      "metadata": {
        "colab": {
          "base_uri": "https://localhost:8080/"
        },
        "id": "wksUiP302g3S",
        "outputId": "36f731d9-d3a3-44ab-e34c-c81aa13e4c8e"
      },
      "execution_count": null,
      "outputs": [
        {
          "output_type": "execute_result",
          "data": {
            "text/plain": [
              "['a', 'b', 'c']"
            ]
          },
          "metadata": {},
          "execution_count": 2
        }
      ]
    },
    {
      "cell_type": "code",
      "source": [
        "# Cách 2\n",
        "letters_2 = list((\"a\", \"b\", \"c\", \"d\"))"
      ],
      "metadata": {
        "id": "IKTnUtjE2obB"
      },
      "execution_count": null,
      "outputs": []
    },
    {
      "cell_type": "code",
      "source": [
        "letters_2"
      ],
      "metadata": {
        "colab": {
          "base_uri": "https://localhost:8080/"
        },
        "id": "giEytU8k26xA",
        "outputId": "4f6a3ec5-7a5b-42d4-e264-9c16326a6665"
      },
      "execution_count": null,
      "outputs": [
        {
          "output_type": "execute_result",
          "data": {
            "text/plain": [
              "['a', 'b', 'c', 'd']"
            ]
          },
          "metadata": {},
          "execution_count": 4
        }
      ]
    },
    {
      "cell_type": "markdown",
      "source": [
        "#### II. Indexing\n",
        "  - Các phần tử trong List được sắp xếp theo thứ tự và mỗi phần tử đều có một chỉ mục (index) riêng."
      ],
      "metadata": {
        "id": "3NeOwJCv3FAu"
      }
    },
    {
      "cell_type": "code",
      "source": [
        "letters_1[1]"
      ],
      "metadata": {
        "colab": {
          "base_uri": "https://localhost:8080/",
          "height": 35
        },
        "id": "6HqHTUjv3ZjO",
        "outputId": "ef23ee52-86db-4029-cfb6-a97a74deea7a"
      },
      "execution_count": null,
      "outputs": [
        {
          "output_type": "execute_result",
          "data": {
            "text/plain": [
              "'b'"
            ],
            "application/vnd.google.colaboratory.intrinsic+json": {
              "type": "string"
            }
          },
          "metadata": {},
          "execution_count": 7
        }
      ]
    },
    {
      "cell_type": "code",
      "source": [
        "letters_1[0]"
      ],
      "metadata": {
        "colab": {
          "base_uri": "https://localhost:8080/",
          "height": 35
        },
        "id": "_TW42UIY36fX",
        "outputId": "7c5c5d2c-48d7-4030-a923-51f503cb09e1"
      },
      "execution_count": null,
      "outputs": [
        {
          "output_type": "execute_result",
          "data": {
            "text/plain": [
              "'a'"
            ],
            "application/vnd.google.colaboratory.intrinsic+json": {
              "type": "string"
            }
          },
          "metadata": {},
          "execution_count": 8
        }
      ]
    },
    {
      "cell_type": "code",
      "source": [
        "letters_2[-1]"
      ],
      "metadata": {
        "colab": {
          "base_uri": "https://localhost:8080/",
          "height": 35
        },
        "id": "D68B1wU54C_M",
        "outputId": "bc8c0546-d4be-40d4-add4-e2f61cc7681d"
      },
      "execution_count": null,
      "outputs": [
        {
          "output_type": "execute_result",
          "data": {
            "text/plain": [
              "'d'"
            ],
            "application/vnd.google.colaboratory.intrinsic+json": {
              "type": "string"
            }
          },
          "metadata": {},
          "execution_count": 9
        }
      ]
    },
    {
      "cell_type": "code",
      "source": [
        "letters_2[2]"
      ],
      "metadata": {
        "colab": {
          "base_uri": "https://localhost:8080/",
          "height": 35
        },
        "id": "NvvC2z4c4Iqa",
        "outputId": "138cba4d-460c-47e6-85d6-d11fb367cabd"
      },
      "execution_count": null,
      "outputs": [
        {
          "output_type": "execute_result",
          "data": {
            "text/plain": [
              "'c'"
            ],
            "application/vnd.google.colaboratory.intrinsic+json": {
              "type": "string"
            }
          },
          "metadata": {},
          "execution_count": 10
        }
      ]
    },
    {
      "cell_type": "markdown",
      "source": [
        "#### III. Hàm cắt List (List Slices)\n",
        "  - Cú pháp : **list[begin:end:step]**\n",
        "    - begin : Chỉ mục của phần tử đầu tiên\n",
        "    - end : Chỉ mục của phần tử cuối cùng\n",
        "    - step : Khoảng cách giữa các chỉ mục của các phần tử sẽ được lấy ra\n",
        "  - Hàm này sẽ trả về một List mới từ phần tử ban đầu đến phần tử kế cuối\n",
        "  - List mới này không ảnh hưởng đến List ban đầu"
      ],
      "metadata": {
        "id": "XYFWBZrm4VhV"
      }
    },
    {
      "cell_type": "code",
      "source": [
        "animals = [\"dog\", \"cat\", \"horse\", \"ant\", \"zebra\", \"chicken\"]"
      ],
      "metadata": {
        "id": "WnrswfDq5P87"
      },
      "execution_count": null,
      "outputs": []
    },
    {
      "cell_type": "code",
      "source": [
        "animals"
      ],
      "metadata": {
        "colab": {
          "base_uri": "https://localhost:8080/"
        },
        "id": "iAQmU5X852rP",
        "outputId": "06e01fb1-3456-4773-dc3b-723ceaaa273b"
      },
      "execution_count": null,
      "outputs": [
        {
          "output_type": "execute_result",
          "data": {
            "text/plain": [
              "['dog', 'cat', 'horse', 'ant', 'zebra', 'chicken']"
            ]
          },
          "metadata": {},
          "execution_count": 14
        }
      ]
    },
    {
      "cell_type": "code",
      "source": [
        "# Cắt list từ phần tử có chỉ mục 1 đến phần tử có chỉ mục 3\n",
        "animals[1:4]"
      ],
      "metadata": {
        "colab": {
          "base_uri": "https://localhost:8080/"
        },
        "id": "faU3Jo7r6UVb",
        "outputId": "614216c6-8593-4235-e8af-fa27fa801025"
      },
      "execution_count": null,
      "outputs": [
        {
          "output_type": "execute_result",
          "data": {
            "text/plain": [
              "['cat', 'horse', 'ant']"
            ]
          },
          "metadata": {},
          "execution_count": 15
        }
      ]
    },
    {
      "cell_type": "code",
      "source": [
        "# Kết quả cho ra tương tự\n",
        "animals[1:4:1]"
      ],
      "metadata": {
        "colab": {
          "base_uri": "https://localhost:8080/"
        },
        "id": "R1eRe6s66ko8",
        "outputId": "0604aac7-9b9e-47c0-b5cc-3b5801211d56"
      },
      "execution_count": null,
      "outputs": [
        {
          "output_type": "execute_result",
          "data": {
            "text/plain": [
              "['cat', 'horse', 'ant']"
            ]
          },
          "metadata": {},
          "execution_count": 16
        }
      ]
    },
    {
      "cell_type": "code",
      "source": [
        "# List ban đầu vẫn được giữ nguyên\n",
        "animals"
      ],
      "metadata": {
        "colab": {
          "base_uri": "https://localhost:8080/"
        },
        "id": "9D7yecMs63a3",
        "outputId": "a430fd8e-3ed8-4c24-aa3e-4ed97010a885"
      },
      "execution_count": null,
      "outputs": [
        {
          "output_type": "execute_result",
          "data": {
            "text/plain": [
              "['dog', 'cat', 'horse', 'ant', 'zebra', 'chicken']"
            ]
          },
          "metadata": {},
          "execution_count": 17
        }
      ]
    },
    {
      "cell_type": "code",
      "source": [
        "# Lấy phần tử có chỉ mục 3 đến cuối cùng\n",
        "animals[3:]"
      ],
      "metadata": {
        "colab": {
          "base_uri": "https://localhost:8080/"
        },
        "id": "9xUtrPvD69O4",
        "outputId": "ba4b33b9-40bb-45f6-cd88-afcab2bab64e"
      },
      "execution_count": null,
      "outputs": [
        {
          "output_type": "execute_result",
          "data": {
            "text/plain": [
              "['ant', 'zebra', 'chicken']"
            ]
          },
          "metadata": {},
          "execution_count": 18
        }
      ]
    },
    {
      "cell_type": "code",
      "source": [
        "# Kết quả cho ra tương đương\n",
        "animals[-3:]"
      ],
      "metadata": {
        "colab": {
          "base_uri": "https://localhost:8080/"
        },
        "id": "U5iUQJfx7HqR",
        "outputId": "35833204-4d96-42c8-eef3-e84683862c73"
      },
      "execution_count": null,
      "outputs": [
        {
          "output_type": "execute_result",
          "data": {
            "text/plain": [
              "['ant', 'zebra', 'chicken']"
            ]
          },
          "metadata": {},
          "execution_count": 21
        }
      ]
    },
    {
      "cell_type": "code",
      "source": [
        "# Copy cả list ra\n",
        "animals_copy = animals[:]"
      ],
      "metadata": {
        "id": "w3jd_Dx07Ubs"
      },
      "execution_count": null,
      "outputs": []
    },
    {
      "cell_type": "code",
      "source": [
        "# tương tự với list ban đầu\n",
        "animals_copy"
      ],
      "metadata": {
        "colab": {
          "base_uri": "https://localhost:8080/"
        },
        "id": "jjz51zwc7hmz",
        "outputId": "a583327a-8981-416c-8264-0b1a56947542"
      },
      "execution_count": null,
      "outputs": [
        {
          "output_type": "execute_result",
          "data": {
            "text/plain": [
              "['dog', 'cat', 'horse', 'ant', 'zebra', 'chicken']"
            ]
          },
          "metadata": {},
          "execution_count": 23
        }
      ]
    },
    {
      "cell_type": "code",
      "source": [
        "# cắt cả list và lấy ra các phần tử với khoảng cách của các phần tử là 2\n",
        "animals_copy[::2]"
      ],
      "metadata": {
        "colab": {
          "base_uri": "https://localhost:8080/"
        },
        "id": "WerkT5J67meC",
        "outputId": "a7b95c62-d069-4dad-f406-1882918c9f70"
      },
      "execution_count": null,
      "outputs": [
        {
          "output_type": "execute_result",
          "data": {
            "text/plain": [
              "['dog', 'horse', 'zebra']"
            ]
          },
          "metadata": {},
          "execution_count": 24
        }
      ]
    },
    {
      "cell_type": "code",
      "source": [
        "# cách đảo ngược list\n",
        "animals_copy[::-1]"
      ],
      "metadata": {
        "colab": {
          "base_uri": "https://localhost:8080/"
        },
        "id": "rkPM9R-U7zHx",
        "outputId": "aac3ce40-7e46-4302-af22-8811508cb441"
      },
      "execution_count": null,
      "outputs": [
        {
          "output_type": "execute_result",
          "data": {
            "text/plain": [
              "['chicken', 'zebra', 'ant', 'horse', 'cat', 'dog']"
            ]
          },
          "metadata": {},
          "execution_count": 26
        }
      ]
    },
    {
      "cell_type": "markdown",
      "source": [
        "#### IV. Các phương thức trong List (Methods)"
      ],
      "metadata": {
        "id": "sMCDcFGz8BMU"
      }
    },
    {
      "cell_type": "markdown",
      "source": [
        "###### 1. reverse()\n",
        "  - Đảo ngược vị trí của các phần tử trong List"
      ],
      "metadata": {
        "id": "lbzOPOALZQwN"
      }
    },
    {
      "cell_type": "code",
      "source": [
        "names = ['Khoa', \"Hai\", \"Bao\", \"Huy\", \"Thinh\"]"
      ],
      "metadata": {
        "id": "gJujTqyQZyND"
      },
      "execution_count": 1,
      "outputs": []
    },
    {
      "cell_type": "code",
      "source": [
        "names.reverse()"
      ],
      "metadata": {
        "id": "rtHDOeQ5aqb1"
      },
      "execution_count": 2,
      "outputs": []
    },
    {
      "cell_type": "code",
      "source": [
        "# List đã được đảo ngược vị trí\n",
        "# Nó thể hiện tính khả biến của một List\n",
        "names"
      ],
      "metadata": {
        "colab": {
          "base_uri": "https://localhost:8080/"
        },
        "id": "oOjeS6jeauSw",
        "outputId": "3f3ea042-22af-4e6a-f067-b4672b23a094"
      },
      "execution_count": 4,
      "outputs": [
        {
          "output_type": "execute_result",
          "data": {
            "text/plain": [
              "['Thinh', 'Huy', 'Bao', 'Hai', 'Khoa']"
            ]
          },
          "metadata": {},
          "execution_count": 4
        }
      ]
    },
    {
      "cell_type": "markdown",
      "source": [
        "###### 2. append()\n",
        "  - Thêm một phần tử vào cuối List\n",
        "  - Hàm này thêm phần tử vào cuối List và thay đổi trực tiếp trong List ban đầu không phải tạo List mới"
      ],
      "metadata": {
        "id": "PeG5-8X-bcRL"
      }
    },
    {
      "cell_type": "code",
      "source": [
        "names.append(\"Lan\")"
      ],
      "metadata": {
        "id": "r_rzD6Hgbg9v"
      },
      "execution_count": 5,
      "outputs": []
    },
    {
      "cell_type": "code",
      "source": [
        "names"
      ],
      "metadata": {
        "colab": {
          "base_uri": "https://localhost:8080/"
        },
        "id": "yJs18_3pcvLI",
        "outputId": "359eee08-d84d-4015-8d97-b1dd6e6e968d"
      },
      "execution_count": 10,
      "outputs": [
        {
          "output_type": "execute_result",
          "data": {
            "text/plain": [
              "['Thinh', 'Huy', 'Bao', 'Hai', 'Khoa', 'Lan']"
            ]
          },
          "metadata": {},
          "execution_count": 10
        }
      ]
    },
    {
      "cell_type": "markdown",
      "source": [
        "###### 3. pop(index)\n",
        "  - Xóa đi một phần tử của List\n",
        "  - Nếu không nhập index thì sẽ xóa phần tử cuối của List\n",
        "  - Nếu có nhập index thì sẽ xóa đi phần tử tương đương với index đó trong List"
      ],
      "metadata": {
        "id": "Ardeu0-geZUT"
      }
    },
    {
      "cell_type": "code",
      "source": [
        "# Xóa đi phần tử cuối cùng\n",
        "names.pop()"
      ],
      "metadata": {
        "colab": {
          "base_uri": "https://localhost:8080/",
          "height": 35
        },
        "id": "sI9wzohaeuA_",
        "outputId": "0e8a5734-238c-4c7b-ddf3-a17c97139470"
      },
      "execution_count": 11,
      "outputs": [
        {
          "output_type": "execute_result",
          "data": {
            "text/plain": [
              "'Lan'"
            ],
            "application/vnd.google.colaboratory.intrinsic+json": {
              "type": "string"
            }
          },
          "metadata": {},
          "execution_count": 11
        }
      ]
    },
    {
      "cell_type": "code",
      "source": [
        "names"
      ],
      "metadata": {
        "colab": {
          "base_uri": "https://localhost:8080/"
        },
        "id": "IRCfdCF4e1x0",
        "outputId": "78e39985-3d53-47b0-b6ad-fe45979ec613"
      },
      "execution_count": 12,
      "outputs": [
        {
          "output_type": "execute_result",
          "data": {
            "text/plain": [
              "['Thinh', 'Huy', 'Bao', 'Hai', 'Khoa']"
            ]
          },
          "metadata": {},
          "execution_count": 12
        }
      ]
    },
    {
      "cell_type": "code",
      "source": [
        "# Xóa đi phần tử với index bằng 0 (tương đương phần tử đầu tiên)\n",
        "names.pop(0)"
      ],
      "metadata": {
        "colab": {
          "base_uri": "https://localhost:8080/",
          "height": 35
        },
        "id": "Xk3BV4Jce4qR",
        "outputId": "ca00f618-4725-41ca-db12-3756a9657f4c"
      },
      "execution_count": 13,
      "outputs": [
        {
          "output_type": "execute_result",
          "data": {
            "text/plain": [
              "'Thinh'"
            ],
            "application/vnd.google.colaboratory.intrinsic+json": {
              "type": "string"
            }
          },
          "metadata": {},
          "execution_count": 13
        }
      ]
    },
    {
      "cell_type": "code",
      "source": [
        "names"
      ],
      "metadata": {
        "colab": {
          "base_uri": "https://localhost:8080/"
        },
        "id": "WbQQh33ce_9d",
        "outputId": "9b7d6a97-5443-4bf9-bf07-872fc7b8fb2e"
      },
      "execution_count": 14,
      "outputs": [
        {
          "output_type": "execute_result",
          "data": {
            "text/plain": [
              "['Huy', 'Bao', 'Hai', 'Khoa']"
            ]
          },
          "metadata": {},
          "execution_count": 14
        }
      ]
    },
    {
      "cell_type": "markdown",
      "source": [
        "###### 4. insert(index, element)\n",
        "  - Thêm một phần tử vào List dựa trên một chỉ mục cho trước\n",
        "  - index là vị trí thêm phần tử mới vào\n",
        "  - element là giá trị của phần tử mới"
      ],
      "metadata": {
        "id": "2bsAggYHjnaF"
      }
    },
    {
      "cell_type": "code",
      "source": [
        "lst = [\"Elon Musk\", 21.5, True, \"Tesla\"]"
      ],
      "metadata": {
        "id": "SV-crkfzkHWg"
      },
      "execution_count": 15,
      "outputs": []
    },
    {
      "cell_type": "code",
      "source": [
        "# thêm số 2 vào index số 2 của List\n",
        "lst.insert(2, 2)"
      ],
      "metadata": {
        "id": "sed9WmQqkY8y"
      },
      "execution_count": 16,
      "outputs": []
    },
    {
      "cell_type": "code",
      "source": [
        "lst"
      ],
      "metadata": {
        "colab": {
          "base_uri": "https://localhost:8080/"
        },
        "id": "LdWfAH2hknnR",
        "outputId": "48a82660-1433-4da2-af6d-9d07cdf98024"
      },
      "execution_count": 17,
      "outputs": [
        {
          "output_type": "execute_result",
          "data": {
            "text/plain": [
              "['Elon Musk', 21.5, 2, True, 'Tesla']"
            ]
          },
          "metadata": {},
          "execution_count": 17
        }
      ]
    },
    {
      "cell_type": "markdown",
      "source": [
        "###### 5. extend(lst2)\n",
        "  - Thêm List mới vào List hiện tại"
      ],
      "metadata": {
        "id": "oI0JKscvlDgp"
      }
    },
    {
      "cell_type": "code",
      "source": [
        "profiles_1 = [[\"Nguyen Anh Khoa\", 22]]\n",
        "profiles_2 = [[\"Nguyen Phu Thanh\", 13]]\n",
        "\n",
        "profiles_1.extend(profiles_2)"
      ],
      "metadata": {
        "id": "Ge9fb97elLeP"
      },
      "execution_count": 18,
      "outputs": []
    },
    {
      "cell_type": "code",
      "source": [
        "profiles_1"
      ],
      "metadata": {
        "colab": {
          "base_uri": "https://localhost:8080/"
        },
        "id": "qcpMTYPElntQ",
        "outputId": "4c8e4b04-1674-466a-d77f-807b7a3f1fab"
      },
      "execution_count": 19,
      "outputs": [
        {
          "output_type": "execute_result",
          "data": {
            "text/plain": [
              "[['Nguyen Anh Khoa', 22], ['Nguyen Phu Thanh', 13]]"
            ]
          },
          "metadata": {},
          "execution_count": 19
        }
      ]
    },
    {
      "cell_type": "markdown",
      "source": [
        "###### 6. index(element)\n",
        "  - Trả về chỉ mục của phần tử có trong List"
      ],
      "metadata": {
        "id": "mm87qBCylxEa"
      }
    },
    {
      "cell_type": "code",
      "source": [
        "cars = [\"Tesla\", \"Audi\", \"BMW\", \"Ferrari\"]"
      ],
      "metadata": {
        "id": "8vdrnqyZl5S6"
      },
      "execution_count": 20,
      "outputs": []
    },
    {
      "cell_type": "code",
      "source": [
        "cars.index(\"Audi\")"
      ],
      "metadata": {
        "colab": {
          "base_uri": "https://localhost:8080/"
        },
        "id": "-SZBc4PRmCAu",
        "outputId": "4c26f352-3421-451f-d8a3-5ea2c4474f39"
      },
      "execution_count": 22,
      "outputs": [
        {
          "output_type": "execute_result",
          "data": {
            "text/plain": [
              "1"
            ]
          },
          "metadata": {},
          "execution_count": 22
        }
      ]
    },
    {
      "cell_type": "code",
      "source": [
        "cars.index(\"Mercedes\") # không có trong List"
      ],
      "metadata": {
        "colab": {
          "base_uri": "https://localhost:8080/",
          "height": 167
        },
        "id": "nUC4ikaLmKB7",
        "outputId": "1ccdcdaf-05d3-4da3-8fba-e0f27b96fb96"
      },
      "execution_count": 24,
      "outputs": [
        {
          "output_type": "error",
          "ename": "ValueError",
          "evalue": "ignored",
          "traceback": [
            "\u001b[0;31m---------------------------------------------------------------------------\u001b[0m",
            "\u001b[0;31mValueError\u001b[0m                                Traceback (most recent call last)",
            "\u001b[0;32m<ipython-input-24-986a308b5c69>\u001b[0m in \u001b[0;36m<module>\u001b[0;34m()\u001b[0m\n\u001b[0;32m----> 1\u001b[0;31m \u001b[0mcars\u001b[0m\u001b[0;34m.\u001b[0m\u001b[0mindex\u001b[0m\u001b[0;34m(\u001b[0m\u001b[0;34m\"Mercedes\"\u001b[0m\u001b[0;34m)\u001b[0m \u001b[0;31m# không có trong List\u001b[0m\u001b[0;34m\u001b[0m\u001b[0;34m\u001b[0m\u001b[0m\n\u001b[0m",
            "\u001b[0;31mValueError\u001b[0m: 'Mercedes' is not in list"
          ]
        }
      ]
    },
    {
      "cell_type": "markdown",
      "source": [
        "###### 7. remove(element)\n",
        "  - Trả về chỉ mục của phần tử có trong List và xóa nó ra khỏi List"
      ],
      "metadata": {
        "id": "BKwOPXzFmXDq"
      }
    },
    {
      "cell_type": "code",
      "source": [
        "cards = [\"Visa\", \"Viettel\", \"Mobi\", \"Vina\"]"
      ],
      "metadata": {
        "id": "PFrIUu_WmeOD"
      },
      "execution_count": 25,
      "outputs": []
    },
    {
      "cell_type": "code",
      "source": [
        "cards.remove(\"Viettel\")"
      ],
      "metadata": {
        "id": "iWyQ5U-pmvRi"
      },
      "execution_count": 26,
      "outputs": []
    },
    {
      "cell_type": "code",
      "source": [
        "cards"
      ],
      "metadata": {
        "colab": {
          "base_uri": "https://localhost:8080/"
        },
        "id": "YCsaabYHmz0N",
        "outputId": "22fafba7-7a62-4c47-a840-c33cc0fe29d6"
      },
      "execution_count": 27,
      "outputs": [
        {
          "output_type": "execute_result",
          "data": {
            "text/plain": [
              "['Visa', 'Mobi', 'Vina']"
            ]
          },
          "metadata": {},
          "execution_count": 27
        }
      ]
    },
    {
      "cell_type": "code",
      "source": [
        "cards.remove(\"Momo\") # không có trong List"
      ],
      "metadata": {
        "colab": {
          "base_uri": "https://localhost:8080/",
          "height": 167
        },
        "id": "WcVGXoK-m6Zw",
        "outputId": "e36ac6f2-e659-428c-a833-a45b871f84b8"
      },
      "execution_count": 29,
      "outputs": [
        {
          "output_type": "error",
          "ename": "ValueError",
          "evalue": "ignored",
          "traceback": [
            "\u001b[0;31m---------------------------------------------------------------------------\u001b[0m",
            "\u001b[0;31mValueError\u001b[0m                                Traceback (most recent call last)",
            "\u001b[0;32m<ipython-input-29-898fe120e9fa>\u001b[0m in \u001b[0;36m<module>\u001b[0;34m()\u001b[0m\n\u001b[0;32m----> 1\u001b[0;31m \u001b[0mcards\u001b[0m\u001b[0;34m.\u001b[0m\u001b[0mremove\u001b[0m\u001b[0;34m(\u001b[0m\u001b[0;34m\"Momo\"\u001b[0m\u001b[0;34m)\u001b[0m \u001b[0;31m# không có trong List\u001b[0m\u001b[0;34m\u001b[0m\u001b[0;34m\u001b[0m\u001b[0m\n\u001b[0m",
            "\u001b[0;31mValueError\u001b[0m: list.remove(x): x not in list"
          ]
        }
      ]
    },
    {
      "cell_type": "markdown",
      "source": [
        "###### 8. sort()\n",
        "  - Sắp xếp các phần tử trong List\n",
        "    - Sắp xếp theo chiều xuôi của chữ cái\n",
        "    - Sắp xếp số từ nhỏ đến lớn"
      ],
      "metadata": {
        "id": "A9R24lHxm_nQ"
      }
    },
    {
      "cell_type": "code",
      "source": [
        "names = [\"Anh\", \"Khoa\", \"Bich\", \"Hai\", \"Nguyen\"]"
      ],
      "metadata": {
        "id": "4gXKlUknnHQP"
      },
      "execution_count": 30,
      "outputs": []
    },
    {
      "cell_type": "code",
      "source": [
        "names.sort()"
      ],
      "metadata": {
        "id": "Ypi4QO7eodS9"
      },
      "execution_count": 31,
      "outputs": []
    },
    {
      "cell_type": "code",
      "source": [
        "names"
      ],
      "metadata": {
        "colab": {
          "base_uri": "https://localhost:8080/"
        },
        "id": "ZFR5v8UDoh3a",
        "outputId": "751c60a3-92cf-42ca-b01a-08da466f098f"
      },
      "execution_count": 32,
      "outputs": [
        {
          "output_type": "execute_result",
          "data": {
            "text/plain": [
              "['Anh', 'Bich', 'Hai', 'Khoa', 'Nguyen']"
            ]
          },
          "metadata": {},
          "execution_count": 32
        }
      ]
    },
    {
      "cell_type": "code",
      "source": [
        "numbers = [132, 98, 30, 25, 100]"
      ],
      "metadata": {
        "id": "3ddQ2cPGozNF"
      },
      "execution_count": 33,
      "outputs": []
    },
    {
      "cell_type": "code",
      "source": [
        "numbers.sort()"
      ],
      "metadata": {
        "id": "oEJbNnL4o6aj"
      },
      "execution_count": 34,
      "outputs": []
    },
    {
      "cell_type": "code",
      "source": [
        "numbers"
      ],
      "metadata": {
        "colab": {
          "base_uri": "https://localhost:8080/"
        },
        "id": "zUchBnfno886",
        "outputId": "25973119-b37d-4841-9da0-c0a0f95cfbef"
      },
      "execution_count": 35,
      "outputs": [
        {
          "output_type": "execute_result",
          "data": {
            "text/plain": [
              "[25, 30, 98, 100, 132]"
            ]
          },
          "metadata": {},
          "execution_count": 35
        }
      ]
    },
    {
      "cell_type": "code",
      "source": [
        "address = [\"111 Anh Hong\", \"65 Le Loi\", \"234 Hoang Hoa Tham\"]"
      ],
      "metadata": {
        "id": "cq-IPmTvpHZr"
      },
      "execution_count": 36,
      "outputs": []
    },
    {
      "cell_type": "code",
      "source": [
        "address.sort()"
      ],
      "metadata": {
        "id": "fJJxkB7kpWJq"
      },
      "execution_count": 37,
      "outputs": []
    },
    {
      "cell_type": "code",
      "source": [
        "address"
      ],
      "metadata": {
        "colab": {
          "base_uri": "https://localhost:8080/"
        },
        "id": "OxdRN7GdpaTL",
        "outputId": "c44d6fe1-1cd6-4293-d1b4-9dbf8de7f422"
      },
      "execution_count": 38,
      "outputs": [
        {
          "output_type": "execute_result",
          "data": {
            "text/plain": [
              "['111 Anh Hong', '234 Hoang Hoa Tham', '65 Le Loi']"
            ]
          },
          "metadata": {},
          "execution_count": 38
        }
      ]
    },
    {
      "cell_type": "markdown",
      "source": [
        "###### 9. Thay đổi các phần tử trong List"
      ],
      "metadata": {
        "id": "c33GG0sGphX_"
      }
    },
    {
      "cell_type": "code",
      "source": [
        "my_code = [\"Python\", \"Java\", \"C\", \"Go\", \"Swift\"]"
      ],
      "metadata": {
        "id": "R5gSOF8VpmWg"
      },
      "execution_count": 39,
      "outputs": []
    },
    {
      "cell_type": "code",
      "source": [
        "# Thay đổi phần tử có chỉ mục 3 đến hết\n",
        "my_code[3:] = [\"NodeJS\", \"PHP\"]"
      ],
      "metadata": {
        "id": "GyrYP9MFulWk"
      },
      "execution_count": 40,
      "outputs": []
    },
    {
      "cell_type": "code",
      "source": [
        "my_code"
      ],
      "metadata": {
        "colab": {
          "base_uri": "https://localhost:8080/"
        },
        "id": "nKvQy6ZHu00j",
        "outputId": "8786ab2e-b85e-4e0b-dcc0-5232be2648f5"
      },
      "execution_count": 41,
      "outputs": [
        {
          "output_type": "execute_result",
          "data": {
            "text/plain": [
              "['Python', 'Java', 'C', 'NodeJS', 'PHP']"
            ]
          },
          "metadata": {},
          "execution_count": 41
        }
      ]
    },
    {
      "cell_type": "code",
      "source": [
        "# Thay đổi phần tử với chỉ mục mặc định\n",
        "my_code[4] = \"JavaScript\""
      ],
      "metadata": {
        "id": "bPK36yB3u6L-"
      },
      "execution_count": 42,
      "outputs": []
    },
    {
      "cell_type": "code",
      "source": [
        "my_code"
      ],
      "metadata": {
        "colab": {
          "base_uri": "https://localhost:8080/"
        },
        "id": "7IEcixTDvDdT",
        "outputId": "99b63c9f-fb99-400f-8963-faf8b5b31fdc"
      },
      "execution_count": 43,
      "outputs": [
        {
          "output_type": "execute_result",
          "data": {
            "text/plain": [
              "['Python', 'Java', 'C', 'NodeJS', 'JavaScript']"
            ]
          },
          "metadata": {},
          "execution_count": 43
        }
      ]
    },
    {
      "cell_type": "code",
      "source": [
        "# Thay đổi phần tử chỉ mục cuối\n",
        "my_code[-1] = \"C++\""
      ],
      "metadata": {
        "id": "W6RLsS2jvF9Y"
      },
      "execution_count": 44,
      "outputs": []
    },
    {
      "cell_type": "code",
      "source": [
        "my_code"
      ],
      "metadata": {
        "colab": {
          "base_uri": "https://localhost:8080/"
        },
        "outputId": "4194b9f6-dd1c-4279-83c2-4581665cfbca",
        "id": "gQ-9rveUvde2"
      },
      "execution_count": 45,
      "outputs": [
        {
          "output_type": "execute_result",
          "data": {
            "text/plain": [
              "['Python', 'Java', 'C', 'NodeJS', 'C++']"
            ]
          },
          "metadata": {},
          "execution_count": 45
        }
      ]
    },
    {
      "cell_type": "markdown",
      "source": [
        "#### V. Các hàm trong List (Functions)"
      ],
      "metadata": {
        "id": "yvCIgdOivmN8"
      }
    },
    {
      "cell_type": "markdown",
      "source": [
        "###### 1. len()\n",
        "  - Trả về số lượng phần tử của một List"
      ],
      "metadata": {
        "id": "ZGq1jZ3UvtL6"
      }
    },
    {
      "cell_type": "code",
      "source": [
        "my_list = [\"1\", \"2\", \"3\", \"4\", \"5\", \"6\"]"
      ],
      "metadata": {
        "id": "QU8LaftuvypO"
      },
      "execution_count": 46,
      "outputs": []
    },
    {
      "cell_type": "code",
      "source": [
        "len(my_list)"
      ],
      "metadata": {
        "colab": {
          "base_uri": "https://localhost:8080/"
        },
        "id": "HETDtd0QwYw-",
        "outputId": "1865990b-2993-4374-a6be-a4afdbf77c4c"
      },
      "execution_count": 47,
      "outputs": [
        {
          "output_type": "execute_result",
          "data": {
            "text/plain": [
              "6"
            ]
          },
          "metadata": {},
          "execution_count": 47
        }
      ]
    },
    {
      "cell_type": "markdown",
      "source": [
        "###### 2. for in\n",
        " - Lặp qua các phần tử của List"
      ],
      "metadata": {
        "id": "YcevE_1SwtFr"
      }
    },
    {
      "cell_type": "code",
      "source": [
        "numbers = [\"1\", \"2\", \"3\", \"4\"]"
      ],
      "metadata": {
        "id": "fmDw7AeFwyl8"
      },
      "execution_count": 48,
      "outputs": []
    },
    {
      "cell_type": "code",
      "source": [
        "for i in numbers:\n",
        "  print(i)"
      ],
      "metadata": {
        "colab": {
          "base_uri": "https://localhost:8080/"
        },
        "id": "h8oJSOrsw7c9",
        "outputId": "bd5e449e-9be3-4e35-a1ea-3a65c34050c1"
      },
      "execution_count": 49,
      "outputs": [
        {
          "output_type": "stream",
          "name": "stdout",
          "text": [
            "1\n",
            "2\n",
            "3\n",
            "4\n"
          ]
        }
      ]
    },
    {
      "cell_type": "markdown",
      "source": [
        "###### 3. in\n",
        "  - Kiểm tra một phần tử có trong List"
      ],
      "metadata": {
        "id": "YMddFq1pxCow"
      }
    },
    {
      "cell_type": "code",
      "source": [
        "num = [\"21\", \"12\", \"121\", \"212\"]\n",
        "if \"121\" in num:\n",
        "  print(\"Found\")\n",
        "else:\n",
        "  print(\"Not Found\")"
      ],
      "metadata": {
        "colab": {
          "base_uri": "https://localhost:8080/"
        },
        "id": "MV0wOygzxILD",
        "outputId": "e49ac0b8-1b26-45f9-eee3-04ca4024539d"
      },
      "execution_count": 50,
      "outputs": [
        {
          "output_type": "stream",
          "name": "stdout",
          "text": [
            "Found\n"
          ]
        }
      ]
    },
    {
      "cell_type": "markdown",
      "source": [
        "###### 4. range(number)\n",
        "  - Trả một List Integer bắt đầu từ 0 đến (n-1)"
      ],
      "metadata": {
        "id": "avboqCHCxfl7"
      }
    },
    {
      "cell_type": "code",
      "source": [
        "n = 20\n",
        "range(n)"
      ],
      "metadata": {
        "colab": {
          "base_uri": "https://localhost:8080/"
        },
        "id": "6yxtJuSXxhMA",
        "outputId": "4fd94e50-b1ad-4714-a9dd-870a30c6646a"
      },
      "execution_count": 53,
      "outputs": [
        {
          "output_type": "execute_result",
          "data": {
            "text/plain": [
              "range(0, 20)"
            ]
          },
          "metadata": {},
          "execution_count": 53
        }
      ]
    },
    {
      "cell_type": "markdown",
      "source": [
        "###### 5. while loop\n",
        "  - Vòng lặp vô hạn"
      ],
      "metadata": {
        "id": "Rt3buRyCx7JN"
      }
    },
    {
      "cell_type": "code",
      "source": [
        "num = [1, 2, 3, 4, 5, 6, 7, 8, 9, 10]\n",
        "i = 0\n",
        "sum = 0\n",
        "while (i <= len(num)):\n",
        "  sum = sum + i\n",
        "  i += 1\n",
        "\n",
        "print(sum)"
      ],
      "metadata": {
        "colab": {
          "base_uri": "https://localhost:8080/"
        },
        "id": "MbjfrY8ox_dC",
        "outputId": "14f33ec0-a09f-4cfd-ec10-c07d99a8828e"
      },
      "execution_count": 55,
      "outputs": [
        {
          "output_type": "stream",
          "name": "stdout",
          "text": [
            "55\n"
          ]
        }
      ]
    },
    {
      "cell_type": "markdown",
      "source": [
        "###### 6. map\n",
        "  - Trả về một List được tính toán dựa trên điều kiện cho trước"
      ],
      "metadata": {
        "id": "JvWKifYiycnY"
      }
    },
    {
      "cell_type": "code",
      "source": [
        "nums = [9, 25, 36, 49, 64]"
      ],
      "metadata": {
        "id": "oS0cVoXVyqcR"
      },
      "execution_count": 62,
      "outputs": []
    },
    {
      "cell_type": "code",
      "source": [
        "def half(element):\n",
        "    return element/3"
      ],
      "metadata": {
        "id": "o_uaRsOiyySF"
      },
      "execution_count": 63,
      "outputs": []
    },
    {
      "cell_type": "code",
      "source": [
        "list(map(half, nums))"
      ],
      "metadata": {
        "colab": {
          "base_uri": "https://localhost:8080/"
        },
        "id": "w8BW1Cvky98I",
        "outputId": "9da9cbc1-d5c2-4ded-ba5e-a266fe41bca6"
      },
      "execution_count": 75,
      "outputs": [
        {
          "output_type": "execute_result",
          "data": {
            "text/plain": [
              "[3.0, -8.333333333333334, -12.0, 16.333333333333332, 21.333333333333332]"
            ]
          },
          "metadata": {},
          "execution_count": 75
        }
      ]
    },
    {
      "cell_type": "markdown",
      "source": [
        "###### 7. filter\n",
        "  - Trà về một List được lọc theo điều kiện cho trước"
      ],
      "metadata": {
        "id": "XaRPfL3ozXgt"
      }
    },
    {
      "cell_type": "code",
      "source": [
        "nums2 = [9, -25, -36, 49, 64]"
      ],
      "metadata": {
        "id": "DOv33jEQzgDV"
      },
      "execution_count": 67,
      "outputs": []
    },
    {
      "cell_type": "code",
      "source": [
        "def positiveNumber(e):\n",
        "  return e > 0"
      ],
      "metadata": {
        "id": "rQqyRSRuzkv8"
      },
      "execution_count": 66,
      "outputs": []
    },
    {
      "cell_type": "code",
      "source": [
        "list(filter(positiveNumber, nums2))"
      ],
      "metadata": {
        "colab": {
          "base_uri": "https://localhost:8080/"
        },
        "id": "DT7Fa9u_zqek",
        "outputId": "3d48da33-9c4c-4a06-82e9-e6881aa1f03c"
      },
      "execution_count": 74,
      "outputs": [
        {
          "output_type": "execute_result",
          "data": {
            "text/plain": [
              "[9, 49, 64]"
            ]
          },
          "metadata": {},
          "execution_count": 74
        }
      ]
    },
    {
      "cell_type": "markdown",
      "source": [
        "###### 8. zip\n",
        "  - Nhóm các phần tử trong các List ở vị trí có chỉ mục tương ứng, mỗi nhóm trở thành một tuple và đồng thời là một phần tử tương ứng trong List mới"
      ],
      "metadata": {
        "id": "5kyzhyWzz1xz"
      }
    },
    {
      "cell_type": "code",
      "source": [
        "numbers = [1, 2, 3]"
      ],
      "metadata": {
        "id": "cS7gmC9x0Kgs"
      },
      "execution_count": 70,
      "outputs": []
    },
    {
      "cell_type": "code",
      "source": [
        "names = [\"Khoa\", \"Bich\", \"Hoa\"]"
      ],
      "metadata": {
        "id": "E-P96edA0ONG"
      },
      "execution_count": 71,
      "outputs": []
    },
    {
      "cell_type": "code",
      "source": [
        "ages = [23, 20, 21]"
      ],
      "metadata": {
        "id": "31kDO14O0VHC"
      },
      "execution_count": 72,
      "outputs": []
    },
    {
      "cell_type": "code",
      "source": [
        "list(zip(numbers, names, ages))"
      ],
      "metadata": {
        "colab": {
          "base_uri": "https://localhost:8080/"
        },
        "id": "ZNHvAjVf0X2C",
        "outputId": "0684c93b-cb12-4d0f-a623-de0c34f6e336"
      },
      "execution_count": 76,
      "outputs": [
        {
          "output_type": "execute_result",
          "data": {
            "text/plain": [
              "[(1, 'Khoa', 23), (2, 'Bich', 20), (3, 'Hoa', 21)]"
            ]
          },
          "metadata": {},
          "execution_count": 76
        }
      ]
    },
    {
      "cell_type": "markdown",
      "source": [
        "#### Tìm hiểu thêm tại [Python List](https://www.w3schools.com/python/python_lists.asp)"
      ],
      "metadata": {
        "id": "K327kJ4I0-if"
      }
    }
  ]
}