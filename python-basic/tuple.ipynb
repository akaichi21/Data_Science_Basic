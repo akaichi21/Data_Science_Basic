{
  "nbformat": 4,
  "nbformat_minor": 0,
  "metadata": {
    "colab": {
      "name": "tuple.ipynb",
      "provenance": []
    },
    "kernelspec": {
      "name": "python3",
      "display_name": "Python 3"
    },
    "language_info": {
      "name": "python"
    }
  },
  "cells": [
    {
      "cell_type": "markdown",
      "source": [
        "### Tuple\n",
        "-----------------------------------------------------------------------------\n",
        "Xem thêm về [Tuple](https://www.w3schools.com/python/python_tuples.asp)\n",
        "\n",
        "Tuple cũng tương tự như List là một chuỗi chứa các phần tử được xếp **theo thứ tự** nhưng khác nhau ở chỗ Tuple có tính chất **bất biến (immutable) - không thể thay đổi.**"
      ],
      "metadata": {
        "id": "G_K4T6n2eBc1"
      }
    },
    {
      "cell_type": "markdown",
      "source": [
        "#### I. Khởi tạo một Tuple"
      ],
      "metadata": {
        "id": "rEka3-oYf0x4"
      }
    },
    {
      "cell_type": "code",
      "source": [
        "tuple1 = (\"Nguyen Anh Khoa\", 22, \"Ton Duc Thang\", \"Nam\")"
      ],
      "metadata": {
        "id": "cAqxAdxNf6yz"
      },
      "execution_count": 1,
      "outputs": []
    },
    {
      "cell_type": "code",
      "source": [
        "tuple1"
      ],
      "metadata": {
        "colab": {
          "base_uri": "https://localhost:8080/"
        },
        "id": "FA_Az0Q5g9jE",
        "outputId": "92f4b41f-2571-4b2e-c24f-e9914d292ba8"
      },
      "execution_count": 2,
      "outputs": [
        {
          "output_type": "execute_result",
          "data": {
            "text/plain": [
              "('Nguyen Anh Khoa', 22, 'Ton Duc Thang', 'Nam')"
            ]
          },
          "metadata": {},
          "execution_count": 2
        }
      ]
    },
    {
      "cell_type": "code",
      "source": [
        "tuple2 = \"angry\", \"happy\", \"sad\", \"sorrow\""
      ],
      "metadata": {
        "id": "9VkBFAamhNJ_"
      },
      "execution_count": 3,
      "outputs": []
    },
    {
      "cell_type": "code",
      "source": [
        "tuple2"
      ],
      "metadata": {
        "colab": {
          "base_uri": "https://localhost:8080/"
        },
        "id": "Ilou1CHOhcxA",
        "outputId": "3fd392b5-3905-4456-f272-03b5c81ec23d"
      },
      "execution_count": 4,
      "outputs": [
        {
          "output_type": "execute_result",
          "data": {
            "text/plain": [
              "('angry', 'happy', 'sad', 'sorrow')"
            ]
          },
          "metadata": {},
          "execution_count": 4
        }
      ]
    },
    {
      "cell_type": "code",
      "source": [
        "tuple3 = tuple()"
      ],
      "metadata": {
        "id": "FU_tdyxBhmGq"
      },
      "execution_count": 5,
      "outputs": []
    },
    {
      "cell_type": "code",
      "source": [
        "tuple3"
      ],
      "metadata": {
        "colab": {
          "base_uri": "https://localhost:8080/"
        },
        "id": "TSRZmDK1hpNY",
        "outputId": "31201c7f-84f4-4d18-8841-a73cac00d992"
      },
      "execution_count": 6,
      "outputs": [
        {
          "output_type": "execute_result",
          "data": {
            "text/plain": [
              "()"
            ]
          },
          "metadata": {},
          "execution_count": 6
        }
      ]
    },
    {
      "cell_type": "markdown",
      "source": [
        "#### II. Truy cập các phần tử trong Tuple"
      ],
      "metadata": {
        "id": "5k9Zz09bhvGR"
      }
    },
    {
      "cell_type": "code",
      "source": [
        "tuple4 = (\"Nguyen Thi Hoa\", 22, \"Kinh Te Doi Ngoai\", \"Nu\")"
      ],
      "metadata": {
        "id": "q-Q4eL_-h1iR"
      },
      "execution_count": 8,
      "outputs": []
    },
    {
      "cell_type": "code",
      "source": [
        "tuple4[0]"
      ],
      "metadata": {
        "colab": {
          "base_uri": "https://localhost:8080/",
          "height": 35
        },
        "id": "ol7yA_neihPT",
        "outputId": "e69e1458-3898-46b4-adcd-3579da2dfd5d"
      },
      "execution_count": 9,
      "outputs": [
        {
          "output_type": "execute_result",
          "data": {
            "text/plain": [
              "'Nguyen Thi Hoa'"
            ],
            "application/vnd.google.colaboratory.intrinsic+json": {
              "type": "string"
            }
          },
          "metadata": {},
          "execution_count": 9
        }
      ]
    },
    {
      "cell_type": "code",
      "source": [
        "tuple4[1]"
      ],
      "metadata": {
        "colab": {
          "base_uri": "https://localhost:8080/"
        },
        "id": "BsIB7Ja3iniQ",
        "outputId": "c5c5bb65-6cbb-49be-d876-aa41b26beb78"
      },
      "execution_count": 10,
      "outputs": [
        {
          "output_type": "execute_result",
          "data": {
            "text/plain": [
              "22"
            ]
          },
          "metadata": {},
          "execution_count": 10
        }
      ]
    },
    {
      "cell_type": "code",
      "source": [
        "tuple4[3]"
      ],
      "metadata": {
        "colab": {
          "base_uri": "https://localhost:8080/",
          "height": 35
        },
        "id": "b5NoVhFGitO4",
        "outputId": "f03aaf39-866c-41e7-bd1f-2faaba537d30"
      },
      "execution_count": 12,
      "outputs": [
        {
          "output_type": "execute_result",
          "data": {
            "text/plain": [
              "'Nu'"
            ],
            "application/vnd.google.colaboratory.intrinsic+json": {
              "type": "string"
            }
          },
          "metadata": {},
          "execution_count": 12
        }
      ]
    },
    {
      "cell_type": "markdown",
      "source": [
        "#### III. Các hàm trong Tuple\n",
        "  - Vì tuple bất biến nên không thể sử dụng hàm như append(), pop() giống như List"
      ],
      "metadata": {
        "id": "ZjkbxvZZi7Hf"
      }
    },
    {
      "cell_type": "code",
      "source": [
        "tuple5 = \"car\", \"bike\", \"bicycle\", \"skateboard\", \"truck\""
      ],
      "metadata": {
        "id": "tvBjPvgqjLZA"
      },
      "execution_count": 13,
      "outputs": []
    },
    {
      "cell_type": "code",
      "source": [
        "tuple6 = \"ship\", \"airplane\", \"vehicle\""
      ],
      "metadata": {
        "id": "wGFA6PvLkatP"
      },
      "execution_count": 14,
      "outputs": []
    },
    {
      "cell_type": "code",
      "source": [
        "# cộng 2 tuple được bởi vì không có thay đổi gì trong tuple5 và tuple6 mà tạo ra một vùng nhớ mới chứa giá trị kết quả\n",
        "tuple5 + tuple6"
      ],
      "metadata": {
        "colab": {
          "base_uri": "https://localhost:8080/"
        },
        "id": "QMnIOL1dkhdy",
        "outputId": "e1dd89ad-8297-4024-dca1-bda79a780ec1"
      },
      "execution_count": 15,
      "outputs": [
        {
          "output_type": "execute_result",
          "data": {
            "text/plain": [
              "('car',\n",
              " 'bike',\n",
              " 'bicycle',\n",
              " 'skateboard',\n",
              " 'truck',\n",
              " 'ship',\n",
              " 'airplane',\n",
              " 'vehicle')"
            ]
          },
          "metadata": {},
          "execution_count": 15
        }
      ]
    },
    {
      "cell_type": "code",
      "source": [
        "tuple5"
      ],
      "metadata": {
        "colab": {
          "base_uri": "https://localhost:8080/"
        },
        "id": "Ibzy01ltku2Q",
        "outputId": "2665ff9e-6b79-44b1-b48e-12596fee5463"
      },
      "execution_count": 16,
      "outputs": [
        {
          "output_type": "execute_result",
          "data": {
            "text/plain": [
              "('car', 'bike', 'bicycle', 'skateboard', 'truck')"
            ]
          },
          "metadata": {},
          "execution_count": 16
        }
      ]
    },
    {
      "cell_type": "code",
      "source": [
        "tuple6"
      ],
      "metadata": {
        "colab": {
          "base_uri": "https://localhost:8080/"
        },
        "id": "jFt1bkUUkxdY",
        "outputId": "dd0f7740-7058-44ae-d571-3e842e1fbaba"
      },
      "execution_count": 17,
      "outputs": [
        {
          "output_type": "execute_result",
          "data": {
            "text/plain": [
              "('ship', 'airplane', 'vehicle')"
            ]
          },
          "metadata": {},
          "execution_count": 17
        }
      ]
    },
    {
      "cell_type": "markdown",
      "source": [
        "###### 1. count()\n",
        "  - Trả về số lượng của một phần tử trong Tuple"
      ],
      "metadata": {
        "id": "-RoU_uPJk0iW"
      }
    },
    {
      "cell_type": "code",
      "source": [
        "tuple7 = (2, 3, 2, 1, 5, 2, 9, 2)"
      ],
      "metadata": {
        "id": "wDipb6IKk6rw"
      },
      "execution_count": 18,
      "outputs": []
    },
    {
      "cell_type": "code",
      "source": [
        "tuple7.count(2)"
      ],
      "metadata": {
        "colab": {
          "base_uri": "https://localhost:8080/"
        },
        "id": "pFW3EUOOmRv1",
        "outputId": "e02ee019-d08d-42b9-d3ae-33f1ae0cc346"
      },
      "execution_count": 19,
      "outputs": [
        {
          "output_type": "execute_result",
          "data": {
            "text/plain": [
              "4"
            ]
          },
          "metadata": {},
          "execution_count": 19
        }
      ]
    },
    {
      "cell_type": "markdown",
      "source": [
        "###### 2. index()\n",
        "  - Trả về chỉ mục đầu tiên của phần tử trong Tuple"
      ],
      "metadata": {
        "id": "XuVI5ITOmWbD"
      }
    },
    {
      "cell_type": "code",
      "source": [
        "animals = (\"dog\", \"cat\", \"mouse\", \"dog\", \"ant\", \"horse\")"
      ],
      "metadata": {
        "id": "pwvRp2mAmhLv"
      },
      "execution_count": 20,
      "outputs": []
    },
    {
      "cell_type": "code",
      "source": [
        "animals.index(\"dog\")"
      ],
      "metadata": {
        "colab": {
          "base_uri": "https://localhost:8080/"
        },
        "id": "r1003bbVmxw0",
        "outputId": "701be53a-66b6-4cd0-917a-2b312ad22bb9"
      },
      "execution_count": 21,
      "outputs": [
        {
          "output_type": "execute_result",
          "data": {
            "text/plain": [
              "0"
            ]
          },
          "metadata": {},
          "execution_count": 21
        }
      ]
    },
    {
      "cell_type": "markdown",
      "source": [
        "###### 3. map()\n",
        "  - Trả về một tuple dựa trên điều kiện cho trước"
      ],
      "metadata": {
        "id": "ueDGqPB2m8mo"
      }
    },
    {
      "cell_type": "code",
      "source": [
        "tuple8 = (1, 2, 3, 4, 5, 6, 7)"
      ],
      "metadata": {
        "id": "IZUAm-bBnHbK"
      },
      "execution_count": 22,
      "outputs": []
    },
    {
      "cell_type": "code",
      "source": [
        "def binhphuong(x):\n",
        "  return x ** 2"
      ],
      "metadata": {
        "id": "amqTYE03oELl"
      },
      "execution_count": 27,
      "outputs": []
    },
    {
      "cell_type": "code",
      "source": [
        "tuple(map(binhphuong, tuple8))"
      ],
      "metadata": {
        "colab": {
          "base_uri": "https://localhost:8080/"
        },
        "id": "iCigoB-uoNNG",
        "outputId": "be195dc4-0cfd-4595-83b2-f4c4981b40d7"
      },
      "execution_count": 28,
      "outputs": [
        {
          "output_type": "execute_result",
          "data": {
            "text/plain": [
              "(1, 4, 9, 16, 25, 36, 49)"
            ]
          },
          "metadata": {},
          "execution_count": 28
        }
      ]
    },
    {
      "cell_type": "markdown",
      "source": [
        "###### 4. filter()\n",
        "  - Trả về một tuple được lọc theo một điều kiện cho trước"
      ],
      "metadata": {
        "id": "hzjGvgd1ogQz"
      }
    },
    {
      "cell_type": "code",
      "source": [
        "tuple9 = \"Hoa\", \"22\", \"2001\", \"Khoa\", \"86\", \"21\""
      ],
      "metadata": {
        "id": "oIEbuGv3opMx"
      },
      "execution_count": 36,
      "outputs": []
    },
    {
      "cell_type": "code",
      "source": [
        "# tạo hàm lọc chuỗi chữ cái\n",
        "def filterAlphebet(e):\n",
        "  return e.isalpha()"
      ],
      "metadata": {
        "id": "88hvloJTpNU_"
      },
      "execution_count": 34,
      "outputs": []
    },
    {
      "cell_type": "code",
      "source": [
        "# tạo hàm lọc chuỗi số \n",
        "def filterDigit(e):\n",
        "  return e.isdigit()"
      ],
      "metadata": {
        "id": "Q84bywDdqQ8f"
      },
      "execution_count": 31,
      "outputs": []
    },
    {
      "cell_type": "code",
      "source": [
        "tuple(filter(filterAlphebet, tuple9))"
      ],
      "metadata": {
        "colab": {
          "base_uri": "https://localhost:8080/"
        },
        "id": "ZW6i3grqqdCt",
        "outputId": "a93cd2b7-0269-4cc7-e8ba-b28c7357d58d"
      },
      "execution_count": 37,
      "outputs": [
        {
          "output_type": "execute_result",
          "data": {
            "text/plain": [
              "('Hoa', 'Khoa')"
            ]
          },
          "metadata": {},
          "execution_count": 37
        }
      ]
    },
    {
      "cell_type": "code",
      "source": [
        "tuple(filter(filterDigit, tuple9))"
      ],
      "metadata": {
        "colab": {
          "base_uri": "https://localhost:8080/"
        },
        "id": "kvfBhgD6sQ8r",
        "outputId": "48d72c87-bada-4694-bdd3-244d166ebbd3"
      },
      "execution_count": 38,
      "outputs": [
        {
          "output_type": "execute_result",
          "data": {
            "text/plain": [
              "('22', '2001', '86', '21')"
            ]
          },
          "metadata": {},
          "execution_count": 38
        }
      ]
    },
    {
      "cell_type": "markdown",
      "source": [
        "###### 5. for in"
      ],
      "metadata": {
        "id": "cJkSIzESsbwW"
      }
    },
    {
      "cell_type": "code",
      "source": [
        "for e in (2, 4, 6, 8, 10):\n",
        "  print(e/2)"
      ],
      "metadata": {
        "colab": {
          "base_uri": "https://localhost:8080/"
        },
        "id": "3qx7TeS-seA0",
        "outputId": "ccabfea3-5e6f-4021-936e-ee3d85d0feb3"
      },
      "execution_count": 39,
      "outputs": [
        {
          "output_type": "stream",
          "name": "stdout",
          "text": [
            "1.0\n",
            "2.0\n",
            "3.0\n",
            "4.0\n",
            "5.0\n"
          ]
        }
      ]
    },
    {
      "cell_type": "markdown",
      "source": [
        "###### 6. in\n",
        "  - Kiểm tra phần tử tồn tại trong Tuple"
      ],
      "metadata": {
        "id": "1OdwGrHBswEe"
      }
    },
    {
      "cell_type": "code",
      "source": [
        "if (1 in (1, 2, 3)):\n",
        "  print(\"La so 1\")\n",
        "else:\n",
        "  print(\"Khong la so 1\")"
      ],
      "metadata": {
        "colab": {
          "base_uri": "https://localhost:8080/"
        },
        "id": "FqVUaS7Qs3XV",
        "outputId": "407992a0-67ba-44c3-9afe-b869fee9e4ad"
      },
      "execution_count": 40,
      "outputs": [
        {
          "output_type": "stream",
          "name": "stdout",
          "text": [
            "La so 1\n"
          ]
        }
      ]
    },
    {
      "cell_type": "markdown",
      "source": [
        "###### 7. while loop"
      ],
      "metadata": {
        "id": "fgntKj8GtIrC"
      }
    },
    {
      "cell_type": "code",
      "source": [
        "tuple10 = (1, 2, 1, 3, 1, 5, 4)"
      ],
      "metadata": {
        "id": "u3X4Z0PPtQ3A"
      },
      "execution_count": 41,
      "outputs": []
    },
    {
      "cell_type": "code",
      "source": [
        "i = 0\n",
        "while (i < len(tuple10)):\n",
        "  print(tuple10[i])\n",
        "  if tuple10[i] == 5:\n",
        "    break\n",
        "  i += 1"
      ],
      "metadata": {
        "colab": {
          "base_uri": "https://localhost:8080/"
        },
        "id": "3NcXnR28tmLg",
        "outputId": "59fdb6e0-94c7-4d72-cb6f-0752ee9cc7f7"
      },
      "execution_count": 43,
      "outputs": [
        {
          "output_type": "stream",
          "name": "stdout",
          "text": [
            "1\n",
            "2\n",
            "1\n",
            "3\n",
            "1\n",
            "5\n"
          ]
        }
      ]
    },
    {
      "cell_type": "markdown",
      "source": [
        "###### 8. enumerate()\n",
        "  - Trả về một enumerate Object là một list chứa các phần tử tuple mới, tuple mới bao gồm giá trị của phần tử tuple ban đầu và giá trị chỉ mục của nó. \n",
        "  - Hàm này thường được sử dụng khi bạn muốn sử dụng cả giá trị và chỉ mục trong tuple."
      ],
      "metadata": {
        "id": "1CXToCHBuMCl"
      }
    },
    {
      "cell_type": "code",
      "source": [
        "names = (\"Khoa\", \"Hoa\", \"Bich\", \"Bao\", \"Hai\")"
      ],
      "metadata": {
        "id": "bN5vztfVuq9z"
      },
      "execution_count": 44,
      "outputs": []
    },
    {
      "cell_type": "code",
      "source": [
        "print(list(enumerate(names)))"
      ],
      "metadata": {
        "colab": {
          "base_uri": "https://localhost:8080/"
        },
        "id": "-8VI7L9-u5Hj",
        "outputId": "17e65bb9-aab6-4b91-bb39-339edb180ad5"
      },
      "execution_count": 45,
      "outputs": [
        {
          "output_type": "stream",
          "name": "stdout",
          "text": [
            "[(0, 'Khoa'), (1, 'Hoa'), (2, 'Bich'), (3, 'Bao'), (4, 'Hai')]\n"
          ]
        }
      ]
    },
    {
      "cell_type": "markdown",
      "source": [
        "###### 9. reverse()\n",
        "  - Trả về một reversed Object trong đó các phần tử được đảo ngược vị trí "
      ],
      "metadata": {
        "id": "EVN9u1S1u_8O"
      }
    },
    {
      "cell_type": "code",
      "source": [
        "shops = \"Pet\", \"Bakery\", \"Fishing\", \"Milk\""
      ],
      "metadata": {
        "id": "Ajy3SYbHvJaE"
      },
      "execution_count": 46,
      "outputs": []
    },
    {
      "cell_type": "code",
      "source": [
        "print(tuple(reversed(shops)))"
      ],
      "metadata": {
        "colab": {
          "base_uri": "https://localhost:8080/"
        },
        "id": "LbaNvlavvYmR",
        "outputId": "77a32b7a-4945-4eab-8dd8-f113a8dd2ad2"
      },
      "execution_count": 47,
      "outputs": [
        {
          "output_type": "stream",
          "name": "stdout",
          "text": [
            "('Milk', 'Fishing', 'Bakery', 'Pet')\n"
          ]
        }
      ]
    },
    {
      "cell_type": "markdown",
      "source": [
        "###### 10. zip()\n",
        "  - Nhóm các phần tử trong các tuple ở vị trí có chỉ mục tương ứng, mỗi nhóm trở thành một tuple đồng thời là một phần tử tương ứng trong một tuple mới"
      ],
      "metadata": {
        "id": "uwZxu710vgdj"
      }
    },
    {
      "cell_type": "code",
      "source": [
        "pets = \"dog\", \"cat\", \"mouse\""
      ],
      "metadata": {
        "id": "7vDbTmKvvnhF"
      },
      "execution_count": 48,
      "outputs": []
    },
    {
      "cell_type": "code",
      "source": [
        "foods = \"bone\", \"fish\", \"cheese\""
      ],
      "metadata": {
        "id": "gKNXLJAEvuAI"
      },
      "execution_count": 49,
      "outputs": []
    },
    {
      "cell_type": "code",
      "source": [
        "tuple(zip(pets, foods))"
      ],
      "metadata": {
        "colab": {
          "base_uri": "https://localhost:8080/"
        },
        "id": "siS6Zg3Nv7Yx",
        "outputId": "1f46c8cf-30b0-40f8-e4d0-fa73e1222cc0"
      },
      "execution_count": 50,
      "outputs": [
        {
          "output_type": "execute_result",
          "data": {
            "text/plain": [
              "(('dog', 'bone'), ('cat', 'fish'), ('mouse', 'cheese'))"
            ]
          },
          "metadata": {},
          "execution_count": 50
        }
      ]
    },
    {
      "cell_type": "markdown",
      "source": [
        "###### 11. sorted()\n",
        "  - Trả về tuple được sắp xếp lại"
      ],
      "metadata": {
        "id": "_Bpo6w_ewCBE"
      }
    },
    {
      "cell_type": "code",
      "source": [
        "letters = \"k\", \"q\", \"a\", \"c\", \"z\", \"t\""
      ],
      "metadata": {
        "id": "LqJBi2vpwJe9"
      },
      "execution_count": 51,
      "outputs": []
    },
    {
      "cell_type": "code",
      "source": [
        "tuple(sorted(letters))"
      ],
      "metadata": {
        "colab": {
          "base_uri": "https://localhost:8080/"
        },
        "id": "QA2KCRn6wQH_",
        "outputId": "30794cc8-2240-4db2-bab6-ddcd6eac873c"
      },
      "execution_count": 52,
      "outputs": [
        {
          "output_type": "execute_result",
          "data": {
            "text/plain": [
              "('a', 'c', 'k', 'q', 't', 'z')"
            ]
          },
          "metadata": {},
          "execution_count": 52
        }
      ]
    },
    {
      "cell_type": "markdown",
      "source": [
        "###### 12. sum()\n",
        "  - Trả về tổng các phần tử trong tuple\n",
        "  - Throw error nếu một phần tử trong tuple không phải dạng số"
      ],
      "metadata": {
        "id": "NJMalSbDwUnD"
      }
    },
    {
      "cell_type": "code",
      "source": [
        "numbers = (1, 521, 233, 21)"
      ],
      "metadata": {
        "id": "SQkglOm1wbZF"
      },
      "execution_count": 53,
      "outputs": []
    },
    {
      "cell_type": "code",
      "source": [
        "sum(numbers)"
      ],
      "metadata": {
        "colab": {
          "base_uri": "https://localhost:8080/"
        },
        "id": "QgOSThVzwfSl",
        "outputId": "9f374b66-c207-4513-b7a4-cb737ee58c07"
      },
      "execution_count": 54,
      "outputs": [
        {
          "output_type": "execute_result",
          "data": {
            "text/plain": [
              "776"
            ]
          },
          "metadata": {},
          "execution_count": 54
        }
      ]
    },
    {
      "cell_type": "code",
      "source": [
        "mixed = (1, \"Khoa\", 229)"
      ],
      "metadata": {
        "id": "5UHy-2d3wkw-"
      },
      "execution_count": 55,
      "outputs": []
    },
    {
      "cell_type": "code",
      "source": [
        "sum(mixed)"
      ],
      "metadata": {
        "colab": {
          "base_uri": "https://localhost:8080/",
          "height": 167
        },
        "id": "pmIvpZ3fwo6U",
        "outputId": "97907552-9a88-4acb-a971-3d0fbeac07ac"
      },
      "execution_count": 56,
      "outputs": [
        {
          "output_type": "error",
          "ename": "TypeError",
          "evalue": "ignored",
          "traceback": [
            "\u001b[0;31m---------------------------------------------------------------------------\u001b[0m",
            "\u001b[0;31mTypeError\u001b[0m                                 Traceback (most recent call last)",
            "\u001b[0;32m<ipython-input-56-40c29f16e2c8>\u001b[0m in \u001b[0;36m<module>\u001b[0;34m()\u001b[0m\n\u001b[0;32m----> 1\u001b[0;31m \u001b[0msum\u001b[0m\u001b[0;34m(\u001b[0m\u001b[0mmixed\u001b[0m\u001b[0;34m)\u001b[0m\u001b[0;34m\u001b[0m\u001b[0;34m\u001b[0m\u001b[0m\n\u001b[0m",
            "\u001b[0;31mTypeError\u001b[0m: unsupported operand type(s) for +: 'int' and 'str'"
          ]
        }
      ]
    },
    {
      "cell_type": "markdown",
      "source": [
        "###### Tìm hiểu thêm tại [Tuple](https://www.tutorialspoint.com/python/python_tuples.htm)"
      ],
      "metadata": {
        "id": "eU7EUNObwr9U"
      }
    }
  ]
}