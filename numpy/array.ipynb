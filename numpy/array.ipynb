{
  "nbformat": 4,
  "nbformat_minor": 0,
  "metadata": {
    "colab": {
      "name": "array.ipynb",
      "provenance": [],
      "collapsed_sections": []
    },
    "kernelspec": {
      "name": "python3",
      "display_name": "Python 3"
    },
    "language_info": {
      "name": "python"
    }
  },
  "cells": [
    {
      "cell_type": "markdown",
      "source": [
        "### Array\n",
        "-------------------------------------------------\n",
        "Ưu điểm của việc sử dụng Numpy so với Python thuần là việc Numpy có hỗ trợ mô phỏng được mảng nhiều chiều dễ dàng hơn.\n",
        "\n",
        "Xem thêm về [mảng](https://github.com/Khoa-21501/learn-MachineLearning-akaicheese/blob/main/python-basic/list.ipynb) của Python thuần.\n",
        "\n",
        "#### I. Import thư viện Numpy"
      ],
      "metadata": {
        "id": "BiHUmH2vXHmp"
      }
    },
    {
      "cell_type": "code",
      "source": [
        "import numpy as np"
      ],
      "metadata": {
        "id": "dlJfGWHrYjbd"
      },
      "execution_count": 1,
      "outputs": []
    },
    {
      "cell_type": "markdown",
      "source": [
        "#### II. Khởi tạo một Array\n",
        "##### 1. np.array()\n",
        "###### a. Mảng 1 chiều"
      ],
      "metadata": {
        "id": "ExjKdUGDYzKQ"
      }
    },
    {
      "cell_type": "code",
      "source": [
        "# với mảng 1 chiều thì có thể gọi là một Vector\n",
        "# với mỗi phần tử trong mảng là Scalar\n",
        "array_vector = np.array([9, 8, 7, 6, 5])"
      ],
      "metadata": {
        "id": "HCzN0n_eZLVW"
      },
      "execution_count": null,
      "outputs": []
    },
    {
      "cell_type": "code",
      "source": [
        "array_vector"
      ],
      "metadata": {
        "colab": {
          "base_uri": "https://localhost:8080/"
        },
        "id": "MN_HALSIZ09_",
        "outputId": "2b1140b5-2fff-4ada-b83c-a3e6a5ca8d47"
      },
      "execution_count": null,
      "outputs": [
        {
          "output_type": "execute_result",
          "data": {
            "text/plain": [
              "array([9, 8, 7, 6, 5])"
            ]
          },
          "metadata": {},
          "execution_count": 5
        }
      ]
    },
    {
      "cell_type": "markdown",
      "source": [
        "###### b. Mảng 2 chiều"
      ],
      "metadata": {
        "id": "JlBucLBhZ6PC"
      }
    },
    {
      "cell_type": "code",
      "source": [
        "# với mảng 2 chiều thì có thể gọi là một Matrix\n",
        "# với mỗi tập trong mảng là mỗi Vector\n",
        "array_matrix = np.array([[3, 2, 1], [4, 5, 6]])"
      ],
      "metadata": {
        "id": "JyQ2MuRzZ-XR"
      },
      "execution_count": null,
      "outputs": []
    },
    {
      "cell_type": "code",
      "source": [
        "array_matrix"
      ],
      "metadata": {
        "colab": {
          "base_uri": "https://localhost:8080/"
        },
        "id": "eFSH1_A6acXC",
        "outputId": "4321a3b6-1b1e-47ee-c1f9-71b687d96037"
      },
      "execution_count": null,
      "outputs": [
        {
          "output_type": "execute_result",
          "data": {
            "text/plain": [
              "array([[3, 2, 1],\n",
              "       [4, 5, 6]])"
            ]
          },
          "metadata": {},
          "execution_count": 7
        }
      ]
    },
    {
      "cell_type": "code",
      "source": [
        "# số chiều của ma trận\n",
        "# với ma trận này thì có 2 hàng và 3 cột\n",
        "array_matrix.shape"
      ],
      "metadata": {
        "colab": {
          "base_uri": "https://localhost:8080/"
        },
        "id": "ZlyhcjYYakyd",
        "outputId": "04e911a5-8913-446c-c528-a78fd07ca1af"
      },
      "execution_count": null,
      "outputs": [
        {
          "output_type": "execute_result",
          "data": {
            "text/plain": [
              "(2, 3)"
            ]
          },
          "metadata": {},
          "execution_count": 9
        }
      ]
    },
    {
      "cell_type": "markdown",
      "source": [
        "###### c. Mảng 3 chiều"
      ],
      "metadata": {
        "id": "ZCJBsEINgeIi"
      }
    },
    {
      "cell_type": "code",
      "source": [
        "# với mảng 3 chiều thì có thể gọi là một Matrix 3 chiều\n",
        "array_3D_matrix = np.array([\n",
        "    [[1, 2, 3], [4, 5, 6]],\n",
        "    [[7, 8, 9], [10, 11, 12]]\n",
        "])"
      ],
      "metadata": {
        "id": "OCrGJ3XAgiEz"
      },
      "execution_count": null,
      "outputs": []
    },
    {
      "cell_type": "code",
      "source": [
        "array_3D_matrix"
      ],
      "metadata": {
        "colab": {
          "base_uri": "https://localhost:8080/"
        },
        "id": "lIawKUOzhQTA",
        "outputId": "514da3fa-6347-4937-9a35-1abefbca8852"
      },
      "execution_count": null,
      "outputs": [
        {
          "output_type": "execute_result",
          "data": {
            "text/plain": [
              "array([[[ 1,  2,  3],\n",
              "        [ 4,  5,  6]],\n",
              "\n",
              "       [[ 7,  8,  9],\n",
              "        [10, 11, 12]]])"
            ]
          },
          "metadata": {},
          "execution_count": 13
        }
      ]
    },
    {
      "cell_type": "code",
      "source": [
        "# số chiều của ma trận 3 chiều\n",
        "# với ma trận này thì mỗi phần có 2 hàng và chia làm 2 phần và mỗi phần có 3 cột\n",
        "array_3D_matrix.shape"
      ],
      "metadata": {
        "colab": {
          "base_uri": "https://localhost:8080/"
        },
        "id": "V2AgQIj2hehN",
        "outputId": "5cb4ba80-8c3e-40cb-b167-d12fc98b49f5"
      },
      "execution_count": null,
      "outputs": [
        {
          "output_type": "execute_result",
          "data": {
            "text/plain": [
              "(2, 2, 3)"
            ]
          },
          "metadata": {},
          "execution_count": 15
        }
      ]
    },
    {
      "cell_type": "markdown",
      "source": [
        "##### 2. np.zeros() | np.ones() | np.full()\n",
        "\n",
        "- Tạo ra mảng có giá trị bằng nhau\n",
        "  - np.zeros() tạo ra mảng có các giá trị bằng 0\n",
        "    - Đầu vào là chiều của mảng dưới dạng tuple\n",
        "  \n",
        "  - np.ones() tạo ra mảng có các giá trị bằng 1\n",
        "    - Đầu vào là chiều của mảng dưới dạng tuple\n",
        "  \n",
        "  - np.full() tạo ra mảng có các giá trị bằng nhau và bằng một số cho trước\n",
        "    - Đầu vào là chiều của mảng dưới dạng tuple và giá trị cho trước "
      ],
      "metadata": {
        "id": "IJZ7ye7Siak0"
      }
    },
    {
      "cell_type": "markdown",
      "source": [
        "###### a. Mảng 1 chiều\n",
        "np.zeros()"
      ],
      "metadata": {
        "id": "wbgp2LoMkbxe"
      }
    },
    {
      "cell_type": "code",
      "source": [
        "array_1D_zeros = np.zeros((6, ))"
      ],
      "metadata": {
        "id": "IRA_pquzkjAb"
      },
      "execution_count": null,
      "outputs": []
    },
    {
      "cell_type": "code",
      "source": [
        "array_1D_zeros"
      ],
      "metadata": {
        "colab": {
          "base_uri": "https://localhost:8080/"
        },
        "id": "TkICrj_QlFNQ",
        "outputId": "42497e4c-497a-4c9c-fa05-d9644f9fbc81"
      },
      "execution_count": null,
      "outputs": [
        {
          "output_type": "execute_result",
          "data": {
            "text/plain": [
              "array([0., 0., 0., 0., 0., 0.])"
            ]
          },
          "metadata": {},
          "execution_count": 17
        }
      ]
    },
    {
      "cell_type": "markdown",
      "source": [
        "np.ones()"
      ],
      "metadata": {
        "id": "Ut_W3u9plUP4"
      }
    },
    {
      "cell_type": "code",
      "source": [
        "array_1D_ones = np.ones((7, ))"
      ],
      "metadata": {
        "id": "fuDYVue9lV0j"
      },
      "execution_count": null,
      "outputs": []
    },
    {
      "cell_type": "code",
      "source": [
        "array_1D_ones"
      ],
      "metadata": {
        "colab": {
          "base_uri": "https://localhost:8080/"
        },
        "id": "M4TOsM1XlbRi",
        "outputId": "2bef5fc9-b116-4a63-8a89-1dc4cacef5d9"
      },
      "execution_count": null,
      "outputs": [
        {
          "output_type": "execute_result",
          "data": {
            "text/plain": [
              "array([1., 1., 1., 1., 1., 1., 1.])"
            ]
          },
          "metadata": {},
          "execution_count": 19
        }
      ]
    },
    {
      "cell_type": "markdown",
      "source": [
        "np.full()"
      ],
      "metadata": {
        "id": "wG4ObXtymc0Y"
      }
    },
    {
      "cell_type": "code",
      "source": [
        "array_1D_full_twentyone = np.full((5, ), 21)"
      ],
      "metadata": {
        "id": "N3MGpeFwmf5o"
      },
      "execution_count": null,
      "outputs": []
    },
    {
      "cell_type": "code",
      "source": [
        "array_1D_full_twentyone"
      ],
      "metadata": {
        "colab": {
          "base_uri": "https://localhost:8080/"
        },
        "id": "_gOHt-eKmpwe",
        "outputId": "374175cf-fd89-48e3-a3f0-3e51b6199198"
      },
      "execution_count": null,
      "outputs": [
        {
          "output_type": "execute_result",
          "data": {
            "text/plain": [
              "array([21, 21, 21, 21, 21])"
            ]
          },
          "metadata": {},
          "execution_count": 24
        }
      ]
    },
    {
      "cell_type": "markdown",
      "source": [
        "###### b. Mảng 2 chiều\n",
        "np.zeros()"
      ],
      "metadata": {
        "id": "S7ri1r0DnWWN"
      }
    },
    {
      "cell_type": "code",
      "source": [
        "array_2D_zeros = np.zeros((5, 7))"
      ],
      "metadata": {
        "id": "W9NAzdaJnksp"
      },
      "execution_count": null,
      "outputs": []
    },
    {
      "cell_type": "code",
      "source": [
        "array_2D_zeros"
      ],
      "metadata": {
        "colab": {
          "base_uri": "https://localhost:8080/"
        },
        "id": "5IZqcj9OnynI",
        "outputId": "484983fe-9780-489a-8c3f-c952ab725928"
      },
      "execution_count": null,
      "outputs": [
        {
          "output_type": "execute_result",
          "data": {
            "text/plain": [
              "array([[0., 0., 0., 0., 0., 0., 0.],\n",
              "       [0., 0., 0., 0., 0., 0., 0.],\n",
              "       [0., 0., 0., 0., 0., 0., 0.],\n",
              "       [0., 0., 0., 0., 0., 0., 0.],\n",
              "       [0., 0., 0., 0., 0., 0., 0.]])"
            ]
          },
          "metadata": {},
          "execution_count": 26
        }
      ]
    },
    {
      "cell_type": "markdown",
      "source": [
        "np.ones()"
      ],
      "metadata": {
        "id": "jujMxl__n4wb"
      }
    },
    {
      "cell_type": "code",
      "source": [
        "array_2D_ones = np.ones((6, 3))"
      ],
      "metadata": {
        "id": "-0nZqXxqn6jz"
      },
      "execution_count": null,
      "outputs": []
    },
    {
      "cell_type": "code",
      "source": [
        "array_2D_ones"
      ],
      "metadata": {
        "colab": {
          "base_uri": "https://localhost:8080/"
        },
        "id": "nwAtD5W7oLW3",
        "outputId": "44fefdbe-8352-425f-f884-b2afc73c7570"
      },
      "execution_count": null,
      "outputs": [
        {
          "output_type": "execute_result",
          "data": {
            "text/plain": [
              "array([[1., 1., 1.],\n",
              "       [1., 1., 1.],\n",
              "       [1., 1., 1.],\n",
              "       [1., 1., 1.],\n",
              "       [1., 1., 1.],\n",
              "       [1., 1., 1.]])"
            ]
          },
          "metadata": {},
          "execution_count": 28
        }
      ]
    },
    {
      "cell_type": "markdown",
      "source": [
        "np.full()"
      ],
      "metadata": {
        "id": "JWlANTozoS9N"
      }
    },
    {
      "cell_type": "code",
      "source": [
        "array_2D_full_five = np.full((4, 3), 5)"
      ],
      "metadata": {
        "id": "nCThTTMuoUXD"
      },
      "execution_count": null,
      "outputs": []
    },
    {
      "cell_type": "code",
      "source": [
        "array_2D_full_five"
      ],
      "metadata": {
        "colab": {
          "base_uri": "https://localhost:8080/"
        },
        "id": "M_xWMtMDpQQt",
        "outputId": "d05933de-f967-4c45-de2b-af7ea0e088f0"
      },
      "execution_count": null,
      "outputs": [
        {
          "output_type": "execute_result",
          "data": {
            "text/plain": [
              "array([[5, 5, 5],\n",
              "       [5, 5, 5],\n",
              "       [5, 5, 5],\n",
              "       [5, 5, 5]])"
            ]
          },
          "metadata": {},
          "execution_count": 30
        }
      ]
    },
    {
      "cell_type": "markdown",
      "source": [
        "###### c. Mảng 3 chiều\n",
        "np.zeros()"
      ],
      "metadata": {
        "id": "-8ay7R1cpU3c"
      }
    },
    {
      "cell_type": "code",
      "source": [
        "array_3D_zeros = np.zeros((3, 4, 5))"
      ],
      "metadata": {
        "id": "vsCCTOy3pcM4"
      },
      "execution_count": null,
      "outputs": []
    },
    {
      "cell_type": "code",
      "source": [
        "array_3D_zeros"
      ],
      "metadata": {
        "colab": {
          "base_uri": "https://localhost:8080/"
        },
        "id": "UXzQ6UFNp2s6",
        "outputId": "6590a6e1-f5bc-4125-b994-73713b23665b"
      },
      "execution_count": null,
      "outputs": [
        {
          "output_type": "execute_result",
          "data": {
            "text/plain": [
              "array([[[0., 0., 0., 0., 0.],\n",
              "        [0., 0., 0., 0., 0.],\n",
              "        [0., 0., 0., 0., 0.],\n",
              "        [0., 0., 0., 0., 0.]],\n",
              "\n",
              "       [[0., 0., 0., 0., 0.],\n",
              "        [0., 0., 0., 0., 0.],\n",
              "        [0., 0., 0., 0., 0.],\n",
              "        [0., 0., 0., 0., 0.]],\n",
              "\n",
              "       [[0., 0., 0., 0., 0.],\n",
              "        [0., 0., 0., 0., 0.],\n",
              "        [0., 0., 0., 0., 0.],\n",
              "        [0., 0., 0., 0., 0.]]])"
            ]
          },
          "metadata": {},
          "execution_count": 32
        }
      ]
    },
    {
      "cell_type": "markdown",
      "source": [
        "np.ones()"
      ],
      "metadata": {
        "id": "-AJ2HvBQqcVu"
      }
    },
    {
      "cell_type": "code",
      "source": [
        "array_3D_ones = np.ones((5, 6, 2))"
      ],
      "metadata": {
        "id": "qImho8rXqd6k"
      },
      "execution_count": null,
      "outputs": []
    },
    {
      "cell_type": "code",
      "source": [
        "array_3D_ones"
      ],
      "metadata": {
        "colab": {
          "base_uri": "https://localhost:8080/"
        },
        "id": "r8SkQhTwqnjr",
        "outputId": "e991f9c8-8399-4aa9-d577-f6e6bdf661d9"
      },
      "execution_count": null,
      "outputs": [
        {
          "output_type": "execute_result",
          "data": {
            "text/plain": [
              "array([[[1., 1.],\n",
              "        [1., 1.],\n",
              "        [1., 1.],\n",
              "        [1., 1.],\n",
              "        [1., 1.],\n",
              "        [1., 1.]],\n",
              "\n",
              "       [[1., 1.],\n",
              "        [1., 1.],\n",
              "        [1., 1.],\n",
              "        [1., 1.],\n",
              "        [1., 1.],\n",
              "        [1., 1.]],\n",
              "\n",
              "       [[1., 1.],\n",
              "        [1., 1.],\n",
              "        [1., 1.],\n",
              "        [1., 1.],\n",
              "        [1., 1.],\n",
              "        [1., 1.]],\n",
              "\n",
              "       [[1., 1.],\n",
              "        [1., 1.],\n",
              "        [1., 1.],\n",
              "        [1., 1.],\n",
              "        [1., 1.],\n",
              "        [1., 1.]],\n",
              "\n",
              "       [[1., 1.],\n",
              "        [1., 1.],\n",
              "        [1., 1.],\n",
              "        [1., 1.],\n",
              "        [1., 1.],\n",
              "        [1., 1.]]])"
            ]
          },
          "metadata": {},
          "execution_count": 34
        }
      ]
    },
    {
      "cell_type": "markdown",
      "source": [
        "np.full()"
      ],
      "metadata": {
        "id": "3cL_e9jIqsgJ"
      }
    },
    {
      "cell_type": "code",
      "source": [
        "array_3D_full_two = np.full((2, 5, 6), 2)"
      ],
      "metadata": {
        "id": "M0vBXVYDqtxj"
      },
      "execution_count": null,
      "outputs": []
    },
    {
      "cell_type": "code",
      "source": [
        "array_3D_full_two"
      ],
      "metadata": {
        "colab": {
          "base_uri": "https://localhost:8080/"
        },
        "id": "Up0BZSM3q1nd",
        "outputId": "8fcc4a2d-9408-4e08-8b12-8ac6c27e5cf7"
      },
      "execution_count": null,
      "outputs": [
        {
          "output_type": "execute_result",
          "data": {
            "text/plain": [
              "array([[[2, 2, 2, 2, 2, 2],\n",
              "        [2, 2, 2, 2, 2, 2],\n",
              "        [2, 2, 2, 2, 2, 2],\n",
              "        [2, 2, 2, 2, 2, 2],\n",
              "        [2, 2, 2, 2, 2, 2]],\n",
              "\n",
              "       [[2, 2, 2, 2, 2, 2],\n",
              "        [2, 2, 2, 2, 2, 2],\n",
              "        [2, 2, 2, 2, 2, 2],\n",
              "        [2, 2, 2, 2, 2, 2],\n",
              "        [2, 2, 2, 2, 2, 2]]])"
            ]
          },
          "metadata": {},
          "execution_count": 36
        }
      ]
    },
    {
      "cell_type": "markdown",
      "source": [
        "##### 3. np.eye()\n",
        "  - Tạo ra một ma trận đơn vị"
      ],
      "metadata": {
        "id": "FiOp67l5q9aF"
      }
    },
    {
      "cell_type": "code",
      "source": [
        "np.eye((6))"
      ],
      "metadata": {
        "colab": {
          "base_uri": "https://localhost:8080/"
        },
        "id": "zcyO9bx5FXBR",
        "outputId": "3316397b-8d3c-42c6-957a-4b5b18de1e66"
      },
      "execution_count": null,
      "outputs": [
        {
          "output_type": "execute_result",
          "data": {
            "text/plain": [
              "array([[1., 0., 0., 0., 0., 0.],\n",
              "       [0., 1., 0., 0., 0., 0.],\n",
              "       [0., 0., 1., 0., 0., 0.],\n",
              "       [0., 0., 0., 1., 0., 0.],\n",
              "       [0., 0., 0., 0., 1., 0.],\n",
              "       [0., 0., 0., 0., 0., 1.]])"
            ]
          },
          "metadata": {},
          "execution_count": 4
        }
      ]
    },
    {
      "cell_type": "markdown",
      "source": [
        "##### 4. np.arange()\n",
        " - Tạo một mảng chạy từ 0 -> 8"
      ],
      "metadata": {
        "id": "GH6YM_36FoCY"
      }
    },
    {
      "cell_type": "code",
      "source": [
        "np.arange(8)"
      ],
      "metadata": {
        "colab": {
          "base_uri": "https://localhost:8080/"
        },
        "id": "mz71rhaLFwLC",
        "outputId": "168e8732-3731-4cd3-da21-7642c853668e"
      },
      "execution_count": null,
      "outputs": [
        {
          "output_type": "execute_result",
          "data": {
            "text/plain": [
              "array([0, 1, 2, 3, 4, 5, 6, 7])"
            ]
          },
          "metadata": {},
          "execution_count": 5
        }
      ]
    },
    {
      "cell_type": "markdown",
      "source": [
        "  - Tạo một mảng chạy từ 5 -> 15"
      ],
      "metadata": {
        "id": "RthGV4ljF5WO"
      }
    },
    {
      "cell_type": "code",
      "source": [
        "np.arange(5, 15)"
      ],
      "metadata": {
        "colab": {
          "base_uri": "https://localhost:8080/"
        },
        "id": "-bOES6GrF-SZ",
        "outputId": "7bc7715a-118d-4e73-8a63-92084e4da324"
      },
      "execution_count": null,
      "outputs": [
        {
          "output_type": "execute_result",
          "data": {
            "text/plain": [
              "array([ 5,  6,  7,  8,  9, 10, 11, 12, 13, 14])"
            ]
          },
          "metadata": {},
          "execution_count": 6
        }
      ]
    },
    {
      "cell_type": "markdown",
      "source": [
        "  - Tạo một mảng chạy từ 0 -> 12 và mỗi phần tử cách nhau 2 đơn vị"
      ],
      "metadata": {
        "id": "Jp7ZOZ_6GCAg"
      }
    },
    {
      "cell_type": "code",
      "source": [
        "np.arange(0, 12, 2)"
      ],
      "metadata": {
        "colab": {
          "base_uri": "https://localhost:8080/"
        },
        "id": "4FsMcC6NGIIC",
        "outputId": "5ed43a81-4f2d-4167-fa40-dd4ebf192077"
      },
      "execution_count": null,
      "outputs": [
        {
          "output_type": "execute_result",
          "data": {
            "text/plain": [
              "array([ 0,  2,  4,  6,  8, 10])"
            ]
          },
          "metadata": {},
          "execution_count": 7
        }
      ]
    },
    {
      "cell_type": "markdown",
      "source": [
        "##### 5. np.linspace()\n",
        "  - Tạo ra một mảng chạy từ 1 -> 12 và gồm 6 phần tử trong mảng cách đều từ 1 -> 12"
      ],
      "metadata": {
        "id": "qnqrUqCcpcWx"
      }
    },
    {
      "cell_type": "code",
      "source": [
        "np.linspace(1, 12, 6)"
      ],
      "metadata": {
        "colab": {
          "base_uri": "https://localhost:8080/"
        },
        "id": "G5OD0qa9pgbV",
        "outputId": "7a11db1c-ce20-4446-a628-41fc929ddda6"
      },
      "execution_count": 4,
      "outputs": [
        {
          "output_type": "execute_result",
          "data": {
            "text/plain": [
              "array([ 1. ,  3.2,  5.4,  7.6,  9.8, 12. ])"
            ]
          },
          "metadata": {},
          "execution_count": 4
        }
      ]
    },
    {
      "cell_type": "markdown",
      "source": [
        "##### 6. np.random.random()\n",
        "  - Tạo một ma trận với các giá trị ngẫu nhiên"
      ],
      "metadata": {
        "id": "WwshcEzsGO0a"
      }
    },
    {
      "cell_type": "code",
      "source": [
        "np.random.random((5, 8))"
      ],
      "metadata": {
        "colab": {
          "base_uri": "https://localhost:8080/"
        },
        "id": "fwLLU8vzGUsq",
        "outputId": "a364e70c-b7c7-43bc-b411-475eb5a16099"
      },
      "execution_count": null,
      "outputs": [
        {
          "output_type": "execute_result",
          "data": {
            "text/plain": [
              "array([[0.26732497, 0.79956576, 0.20870024, 0.63119461, 0.25588551,\n",
              "        0.66399885, 0.04062925, 0.66392159],\n",
              "       [0.45081932, 0.65307809, 0.4929539 , 0.85242613, 0.54109441,\n",
              "        0.25950598, 0.31921717, 0.25181869],\n",
              "       [0.23039461, 0.40296619, 0.01003726, 0.08947942, 0.74743044,\n",
              "        0.44233326, 0.77679527, 0.45490816],\n",
              "       [0.05834876, 0.48970114, 0.21985538, 0.04384252, 0.61534148,\n",
              "        0.23699899, 0.21474943, 0.35269348],\n",
              "       [0.43415143, 0.14750362, 0.36606413, 0.67082837, 0.68829589,\n",
              "        0.4475433 , 0.14270888, 0.37337436]])"
            ]
          },
          "metadata": {},
          "execution_count": 9
        }
      ]
    },
    {
      "cell_type": "markdown",
      "source": [
        "##### 7. np.random.randint()\n",
        "  - Tạo một mảng với các giá trị số nguyên, các giá trị từ 0 -> 12 và gồm 6 phần tử"
      ],
      "metadata": {
        "id": "sa-n9PCIu7Pa"
      }
    },
    {
      "cell_type": "code",
      "source": [
        "np.random.randint(0, 12, 6)"
      ],
      "metadata": {
        "colab": {
          "base_uri": "https://localhost:8080/"
        },
        "id": "RNvSU97evEhK",
        "outputId": "a0fa9a38-28aa-4c52-e640-fea9d2bcf83f"
      },
      "execution_count": 28,
      "outputs": [
        {
          "output_type": "execute_result",
          "data": {
            "text/plain": [
              "array([10,  3,  2,  2,  2, 11])"
            ]
          },
          "metadata": {},
          "execution_count": 28
        }
      ]
    },
    {
      "cell_type": "markdown",
      "source": [
        "##### 8. np.random.shuffle()\n",
        "  - Xáo trộn của một mảng có sẵn"
      ],
      "metadata": {
        "id": "otbNV7Ssw-mp"
      }
    },
    {
      "cell_type": "code",
      "source": [
        "a = np.arange(10)"
      ],
      "metadata": {
        "id": "ERI6uYGXxSj6"
      },
      "execution_count": 38,
      "outputs": []
    },
    {
      "cell_type": "code",
      "source": [
        "a"
      ],
      "metadata": {
        "colab": {
          "base_uri": "https://localhost:8080/"
        },
        "id": "xCG2PZjoxiyt",
        "outputId": "3c7b5347-83ea-4628-c1b3-7355e472f9f1"
      },
      "execution_count": 39,
      "outputs": [
        {
          "output_type": "execute_result",
          "data": {
            "text/plain": [
              "array([0, 1, 2, 3, 4, 5, 6, 7, 8, 9])"
            ]
          },
          "metadata": {},
          "execution_count": 39
        }
      ]
    },
    {
      "cell_type": "code",
      "source": [
        "np.random.shuffle(a)"
      ],
      "metadata": {
        "id": "y-8Pgwy0xart"
      },
      "execution_count": 40,
      "outputs": []
    },
    {
      "cell_type": "code",
      "source": [
        "a"
      ],
      "metadata": {
        "colab": {
          "base_uri": "https://localhost:8080/"
        },
        "id": "bJ73bzkpxlRq",
        "outputId": "e109d9ba-304f-4d3d-a412-e4473f64dcd8"
      },
      "execution_count": 41,
      "outputs": [
        {
          "output_type": "execute_result",
          "data": {
            "text/plain": [
              "array([2, 4, 7, 1, 6, 8, 9, 3, 5, 0])"
            ]
          },
          "metadata": {},
          "execution_count": 41
        }
      ]
    },
    {
      "cell_type": "markdown",
      "source": [
        "##### 9. np.random.choice()\n",
        "  - Chọn ngẫu nhiên một phần tử trong mảng"
      ],
      "metadata": {
        "id": "0RgxWMG6xm0Q"
      }
    },
    {
      "cell_type": "code",
      "source": [
        "a = np.array([1, 3, 5, 7, 9, 11])"
      ],
      "metadata": {
        "id": "bUtke7KixuKW"
      },
      "execution_count": 42,
      "outputs": []
    },
    {
      "cell_type": "code",
      "source": [
        "a"
      ],
      "metadata": {
        "colab": {
          "base_uri": "https://localhost:8080/"
        },
        "id": "ei6rUy9Zx4GL",
        "outputId": "983e139c-fc7f-4371-bd47-b23be507c390"
      },
      "execution_count": 43,
      "outputs": [
        {
          "output_type": "execute_result",
          "data": {
            "text/plain": [
              "array([ 1,  3,  5,  7,  9, 11])"
            ]
          },
          "metadata": {},
          "execution_count": 43
        }
      ]
    },
    {
      "cell_type": "code",
      "source": [
        "np.random.choice(a)"
      ],
      "metadata": {
        "colab": {
          "base_uri": "https://localhost:8080/"
        },
        "id": "TsZdJD8Px5Q6",
        "outputId": "d8ee8d69-1800-40a8-aaea-167bccdc44f0"
      },
      "execution_count": 44,
      "outputs": [
        {
          "output_type": "execute_result",
          "data": {
            "text/plain": [
              "5"
            ]
          },
          "metadata": {},
          "execution_count": 44
        }
      ]
    },
    {
      "cell_type": "markdown",
      "source": [
        "##### 10. np.random.random_integers()\n",
        "  - Tạo một mảng từ 4 -> 10 với 3 phần tử"
      ],
      "metadata": {
        "id": "6h-hbEM5yHSZ"
      }
    },
    {
      "cell_type": "code",
      "source": [
        "np.random.random_integers(4, 10, 3)"
      ],
      "metadata": {
        "colab": {
          "base_uri": "https://localhost:8080/"
        },
        "id": "Cf3Y36iiyWba",
        "outputId": "f74ef6c1-3c1a-4e33-c4eb-84a4509f4d2a"
      },
      "execution_count": 46,
      "outputs": [
        {
          "output_type": "stream",
          "name": "stderr",
          "text": [
            "/usr/local/lib/python3.7/dist-packages/ipykernel_launcher.py:1: DeprecationWarning: This function is deprecated. Please call randint(4, 10 + 1) instead\n",
            "  \"\"\"Entry point for launching an IPython kernel.\n"
          ]
        },
        {
          "output_type": "execute_result",
          "data": {
            "text/plain": [
              "array([4, 7, 6])"
            ]
          },
          "metadata": {},
          "execution_count": 46
        }
      ]
    },
    {
      "cell_type": "markdown",
      "source": [
        "##### 11. np.shape() | np.reshape() | np.size() | np.dtype()\n",
        "  - Thay đổi số chiều của mảng"
      ],
      "metadata": {
        "id": "YGMUfZsXqXBS"
      }
    },
    {
      "cell_type": "code",
      "source": [
        "a = np.array([1, 2, 3, 4, 5, 6, 7, 8])"
      ],
      "metadata": {
        "id": "jc_pk_1qqfJc"
      },
      "execution_count": 5,
      "outputs": []
    },
    {
      "cell_type": "code",
      "source": [
        "# số chiều của mảng\n",
        "np.shape(a)"
      ],
      "metadata": {
        "colab": {
          "base_uri": "https://localhost:8080/"
        },
        "id": "ED2VgHPSq5TU",
        "outputId": "ad5a378f-32c9-442d-f2ec-794e728f5eb2"
      },
      "execution_count": 8,
      "outputs": [
        {
          "output_type": "execute_result",
          "data": {
            "text/plain": [
              "(8,)"
            ]
          },
          "metadata": {},
          "execution_count": 8
        }
      ]
    },
    {
      "cell_type": "code",
      "source": [
        "# tổng số phần tử của mảng\n",
        "np.size(a)"
      ],
      "metadata": {
        "colab": {
          "base_uri": "https://localhost:8080/"
        },
        "id": "I-USyX1zsAXk",
        "outputId": "b12aa131-62ce-451b-958f-0c2a39ff8e0d"
      },
      "execution_count": 16,
      "outputs": [
        {
          "output_type": "execute_result",
          "data": {
            "text/plain": [
              "8"
            ]
          },
          "metadata": {},
          "execution_count": 16
        }
      ]
    },
    {
      "cell_type": "code",
      "source": [
        "# kiểu dữ liệu của mảng\n",
        "a.dtype"
      ],
      "metadata": {
        "colab": {
          "base_uri": "https://localhost:8080/"
        },
        "id": "qkCnl4UlsiYq",
        "outputId": "87389872-cab7-4241-adc8-b72a0b0c8037"
      },
      "execution_count": 19,
      "outputs": [
        {
          "output_type": "execute_result",
          "data": {
            "text/plain": [
              "dtype('int64')"
            ]
          },
          "metadata": {},
          "execution_count": 19
        }
      ]
    },
    {
      "cell_type": "code",
      "source": [
        "# thay đổi số chiều của mảng\n",
        "# với 2 hàng và 4 cột\n",
        "a.reshape(2,4)"
      ],
      "metadata": {
        "colab": {
          "base_uri": "https://localhost:8080/"
        },
        "id": "8__2koAArYWL",
        "outputId": "60635316-a165-4cdb-9a60-bdb12958d400"
      },
      "execution_count": 9,
      "outputs": [
        {
          "output_type": "execute_result",
          "data": {
            "text/plain": [
              "array([[1, 2, 3, 4],\n",
              "       [5, 6, 7, 8]])"
            ]
          },
          "metadata": {},
          "execution_count": 9
        }
      ]
    },
    {
      "cell_type": "code",
      "source": [
        "# thay đổi số chiều của mảng\n",
        "# với 2 phần và mỗi phần gồm 2 hàng và 2 cột\n",
        "a.reshape(2,2,2)"
      ],
      "metadata": {
        "colab": {
          "base_uri": "https://localhost:8080/"
        },
        "id": "tMpWdKfurowU",
        "outputId": "d91c2db4-ff27-4375-8f6a-19505fb73316"
      },
      "execution_count": 15,
      "outputs": [
        {
          "output_type": "execute_result",
          "data": {
            "text/plain": [
              "array([[[1, 2],\n",
              "        [3, 4]],\n",
              "\n",
              "       [[5, 6],\n",
              "        [7, 8]]])"
            ]
          },
          "metadata": {},
          "execution_count": 15
        }
      ]
    },
    {
      "cell_type": "markdown",
      "source": [
        "##### 12. So sánh và tính toán trong mảng"
      ],
      "metadata": {
        "id": "9BY-2aIasyxs"
      }
    },
    {
      "cell_type": "code",
      "source": [
        "array_2D_np = np.array([[4, 5, 6], [9, 8, 7]])"
      ],
      "metadata": {
        "id": "-Mq9p7zRs3rk"
      },
      "execution_count": 20,
      "outputs": []
    },
    {
      "cell_type": "code",
      "source": [
        "# các phần tử trong mảng lớn 5\n",
        "array_2D_np > 5"
      ],
      "metadata": {
        "colab": {
          "base_uri": "https://localhost:8080/"
        },
        "id": "93YoejLutXNC",
        "outputId": "12f6286a-6f17-45d9-fbdd-f5530241c7b0"
      },
      "execution_count": 23,
      "outputs": [
        {
          "output_type": "execute_result",
          "data": {
            "text/plain": [
              "array([[False, False,  True],\n",
              "       [ True,  True,  True]])"
            ]
          },
          "metadata": {},
          "execution_count": 23
        }
      ]
    },
    {
      "cell_type": "code",
      "source": [
        "# tổng một con số với mảng\n",
        "array_2D_np + 2"
      ],
      "metadata": {
        "colab": {
          "base_uri": "https://localhost:8080/"
        },
        "id": "PIpgEuXlt_07",
        "outputId": "e87dfd5c-d7e8-4c36-ae8e-0b80745c800b"
      },
      "execution_count": 24,
      "outputs": [
        {
          "output_type": "execute_result",
          "data": {
            "text/plain": [
              "array([[ 6,  7,  8],\n",
              "       [11, 10,  9]])"
            ]
          },
          "metadata": {},
          "execution_count": 24
        }
      ]
    },
    {
      "cell_type": "code",
      "source": [
        "# hiệu một con số với mảng\n",
        "array_2D_np - 3"
      ],
      "metadata": {
        "colab": {
          "base_uri": "https://localhost:8080/"
        },
        "id": "m5NJYbBbuV9-",
        "outputId": "04f0c908-5539-4e86-bf73-e1daf73215dc"
      },
      "execution_count": 25,
      "outputs": [
        {
          "output_type": "execute_result",
          "data": {
            "text/plain": [
              "array([[1, 2, 3],\n",
              "       [6, 5, 4]])"
            ]
          },
          "metadata": {},
          "execution_count": 25
        }
      ]
    },
    {
      "cell_type": "code",
      "source": [
        "# tích một con số với mảng\n",
        "array_2D_np * 4"
      ],
      "metadata": {
        "colab": {
          "base_uri": "https://localhost:8080/"
        },
        "id": "hpWuZcsvucyg",
        "outputId": "4ff27150-7954-4670-8a12-7e455ff96a37"
      },
      "execution_count": 26,
      "outputs": [
        {
          "output_type": "execute_result",
          "data": {
            "text/plain": [
              "array([[16, 20, 24],\n",
              "       [36, 32, 28]])"
            ]
          },
          "metadata": {},
          "execution_count": 26
        }
      ]
    },
    {
      "cell_type": "code",
      "source": [
        "# thương một con số với mảng\n",
        "array_2D_np / 2"
      ],
      "metadata": {
        "colab": {
          "base_uri": "https://localhost:8080/"
        },
        "id": "sNTkYFliui2W",
        "outputId": "716d288d-bb99-4f99-a646-c040bb1f3aa6"
      },
      "execution_count": 27,
      "outputs": [
        {
          "output_type": "execute_result",
          "data": {
            "text/plain": [
              "array([[2. , 2.5, 3. ],\n",
              "       [4.5, 4. , 3.5]])"
            ]
          },
          "metadata": {},
          "execution_count": 27
        }
      ]
    },
    {
      "cell_type": "markdown",
      "source": [
        "##### 13. Tìm giá trị min, max, mean, var, std của mảng"
      ],
      "metadata": {
        "id": "_aJBr_XMvecl"
      }
    },
    {
      "cell_type": "code",
      "source": [
        "b = np.array([[3, 5, 7], [4, 6, 8]])"
      ],
      "metadata": {
        "id": "bU2YUe5xvtyQ"
      },
      "execution_count": 29,
      "outputs": []
    },
    {
      "cell_type": "code",
      "source": [
        "# tìm giá trị nhỏ nhất của mảng\n",
        "b.min()"
      ],
      "metadata": {
        "colab": {
          "base_uri": "https://localhost:8080/"
        },
        "id": "xSYQwQjcvpz7",
        "outputId": "09d0f835-6fca-4ad4-be21-574945dfce84"
      },
      "execution_count": 30,
      "outputs": [
        {
          "output_type": "execute_result",
          "data": {
            "text/plain": [
              "3"
            ]
          },
          "metadata": {},
          "execution_count": 30
        }
      ]
    },
    {
      "cell_type": "code",
      "source": [
        "# tìm giá trị lớn nhất của mảng\n",
        "b.max()"
      ],
      "metadata": {
        "colab": {
          "base_uri": "https://localhost:8080/"
        },
        "id": "pNE021hKwFJ5",
        "outputId": "e424fb96-b98a-421b-8c82-c6a4caaff16c"
      },
      "execution_count": 31,
      "outputs": [
        {
          "output_type": "execute_result",
          "data": {
            "text/plain": [
              "8"
            ]
          },
          "metadata": {},
          "execution_count": 31
        }
      ]
    },
    {
      "cell_type": "code",
      "source": [
        "# tìm giá trị trung bình của mảng\n",
        "b.mean()"
      ],
      "metadata": {
        "colab": {
          "base_uri": "https://localhost:8080/"
        },
        "id": "tfpwgXjlwJcO",
        "outputId": "12ebad92-3286-4cb7-bef7-da4bad6a1408"
      },
      "execution_count": 33,
      "outputs": [
        {
          "output_type": "execute_result",
          "data": {
            "text/plain": [
              "5.5"
            ]
          },
          "metadata": {},
          "execution_count": 33
        }
      ]
    },
    {
      "cell_type": "code",
      "source": [
        "# tìm giá trị phương sai của mảng\n",
        "b.var()"
      ],
      "metadata": {
        "colab": {
          "base_uri": "https://localhost:8080/"
        },
        "id": "Dk4yu8whwT5y",
        "outputId": "c7d2fce3-d295-4e32-9657-85ee9ec5b8cb"
      },
      "execution_count": 34,
      "outputs": [
        {
          "output_type": "execute_result",
          "data": {
            "text/plain": [
              "2.9166666666666665"
            ]
          },
          "metadata": {},
          "execution_count": 34
        }
      ]
    },
    {
      "cell_type": "code",
      "source": [
        "# tìm giá trị độ lệch chuẩn của mảng\n",
        "b.std()"
      ],
      "metadata": {
        "colab": {
          "base_uri": "https://localhost:8080/"
        },
        "id": "utlurlS0wn9i",
        "outputId": "be1e0f37-5d96-45af-be63-3db8ac512701"
      },
      "execution_count": 35,
      "outputs": [
        {
          "output_type": "execute_result",
          "data": {
            "text/plain": [
              "1.707825127659933"
            ]
          },
          "metadata": {},
          "execution_count": 35
        }
      ]
    },
    {
      "cell_type": "markdown",
      "source": [
        "Vào đây để tìm hiểu thêm [Numpy (Array)](https://numpy.org/doc/stable/reference/generated/numpy.array.html)"
      ],
      "metadata": {
        "id": "TRtry6FjG2PT"
      }
    }
  ]
}