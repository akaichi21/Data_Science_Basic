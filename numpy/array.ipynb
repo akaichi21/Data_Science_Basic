{
  "nbformat": 4,
  "nbformat_minor": 0,
  "metadata": {
    "colab": {
      "name": "array.ipynb",
      "provenance": [],
      "collapsed_sections": []
    },
    "kernelspec": {
      "name": "python3",
      "display_name": "Python 3"
    },
    "language_info": {
      "name": "python"
    }
  },
  "cells": [
    {
      "cell_type": "markdown",
      "source": [
        "### Array\n",
        "-------------------------------------------------\n",
        "Ưu điểm của việc sử dụng Numpy so với Python thuần là việc Numpy có hỗ trợ mô phỏng được mảng nhiều chiều dễ dàng hơn.\n",
        "\n",
        "Xem thêm về [mảng](https://github.com/Khoa-21501/learn-MachineLearning-akaicheese/blob/main/python-basic/list.ipynb) của Python thuần.\n",
        "\n",
        "#### I. Import thư viện Numpy"
      ],
      "metadata": {
        "id": "BiHUmH2vXHmp"
      }
    },
    {
      "cell_type": "code",
      "source": [
        "import numpy as np"
      ],
      "metadata": {
        "id": "dlJfGWHrYjbd"
      },
      "execution_count": 2,
      "outputs": []
    },
    {
      "cell_type": "markdown",
      "source": [
        "#### II. Khởi tạo một Array\n",
        "##### 1. np.array()\n",
        "###### a. Mảng 1 chiều"
      ],
      "metadata": {
        "id": "ExjKdUGDYzKQ"
      }
    },
    {
      "cell_type": "code",
      "source": [
        "# với mảng 1 chiều thì có thể gọi là một Vector\n",
        "# với mỗi phần tử trong mảng là Scalar\n",
        "array_vector = np.array([9, 8, 7, 6, 5])"
      ],
      "metadata": {
        "id": "HCzN0n_eZLVW"
      },
      "execution_count": null,
      "outputs": []
    },
    {
      "cell_type": "code",
      "source": [
        "array_vector"
      ],
      "metadata": {
        "colab": {
          "base_uri": "https://localhost:8080/"
        },
        "id": "MN_HALSIZ09_",
        "outputId": "2b1140b5-2fff-4ada-b83c-a3e6a5ca8d47"
      },
      "execution_count": null,
      "outputs": [
        {
          "output_type": "execute_result",
          "data": {
            "text/plain": [
              "array([9, 8, 7, 6, 5])"
            ]
          },
          "metadata": {},
          "execution_count": 5
        }
      ]
    },
    {
      "cell_type": "markdown",
      "source": [
        "###### b. Mảng 2 chiều"
      ],
      "metadata": {
        "id": "JlBucLBhZ6PC"
      }
    },
    {
      "cell_type": "code",
      "source": [
        "# với mảng 2 chiều thì có thể gọi là một Matrix\n",
        "# với mỗi tập trong mảng là mỗi Vector\n",
        "array_matrix = np.array([[3, 2, 1], [4, 5, 6]])"
      ],
      "metadata": {
        "id": "JyQ2MuRzZ-XR"
      },
      "execution_count": null,
      "outputs": []
    },
    {
      "cell_type": "code",
      "source": [
        "array_matrix"
      ],
      "metadata": {
        "colab": {
          "base_uri": "https://localhost:8080/"
        },
        "id": "eFSH1_A6acXC",
        "outputId": "4321a3b6-1b1e-47ee-c1f9-71b687d96037"
      },
      "execution_count": null,
      "outputs": [
        {
          "output_type": "execute_result",
          "data": {
            "text/plain": [
              "array([[3, 2, 1],\n",
              "       [4, 5, 6]])"
            ]
          },
          "metadata": {},
          "execution_count": 7
        }
      ]
    },
    {
      "cell_type": "code",
      "source": [
        "# số chiều của ma trận\n",
        "# với ma trận này thì có 2 hàng và 3 cột\n",
        "array_matrix.shape"
      ],
      "metadata": {
        "colab": {
          "base_uri": "https://localhost:8080/"
        },
        "id": "ZlyhcjYYakyd",
        "outputId": "04e911a5-8913-446c-c528-a78fd07ca1af"
      },
      "execution_count": null,
      "outputs": [
        {
          "output_type": "execute_result",
          "data": {
            "text/plain": [
              "(2, 3)"
            ]
          },
          "metadata": {},
          "execution_count": 9
        }
      ]
    },
    {
      "cell_type": "markdown",
      "source": [
        "###### c. Mảng 3 chiều"
      ],
      "metadata": {
        "id": "ZCJBsEINgeIi"
      }
    },
    {
      "cell_type": "code",
      "source": [
        "# với mảng 3 chiều thì có thể gọi là một Matrix 3 chiều\n",
        "array_3D_matrix = np.array([\n",
        "    [[1, 2, 3], [4, 5, 6]],\n",
        "    [[7, 8, 9], [10, 11, 12]]\n",
        "])"
      ],
      "metadata": {
        "id": "OCrGJ3XAgiEz"
      },
      "execution_count": null,
      "outputs": []
    },
    {
      "cell_type": "code",
      "source": [
        "array_3D_matrix"
      ],
      "metadata": {
        "colab": {
          "base_uri": "https://localhost:8080/"
        },
        "id": "lIawKUOzhQTA",
        "outputId": "514da3fa-6347-4937-9a35-1abefbca8852"
      },
      "execution_count": null,
      "outputs": [
        {
          "output_type": "execute_result",
          "data": {
            "text/plain": [
              "array([[[ 1,  2,  3],\n",
              "        [ 4,  5,  6]],\n",
              "\n",
              "       [[ 7,  8,  9],\n",
              "        [10, 11, 12]]])"
            ]
          },
          "metadata": {},
          "execution_count": 13
        }
      ]
    },
    {
      "cell_type": "code",
      "source": [
        "# số chiều của ma trận 3 chiều\n",
        "# với ma trận này thì mỗi phần có 2 hàng và chia làm 2 phần và mỗi phần có 3 cột\n",
        "array_3D_matrix.shape"
      ],
      "metadata": {
        "colab": {
          "base_uri": "https://localhost:8080/"
        },
        "id": "V2AgQIj2hehN",
        "outputId": "5cb4ba80-8c3e-40cb-b167-d12fc98b49f5"
      },
      "execution_count": null,
      "outputs": [
        {
          "output_type": "execute_result",
          "data": {
            "text/plain": [
              "(2, 2, 3)"
            ]
          },
          "metadata": {},
          "execution_count": 15
        }
      ]
    },
    {
      "cell_type": "markdown",
      "source": [
        "##### 2. np.zeros() | np.ones() | np.full()\n",
        "\n",
        "- Tạo ra mảng có giá trị bằng nhau\n",
        "  - np.zeros() tạo ra mảng có các giá trị bằng 0\n",
        "    - Đầu vào là chiều của mảng dưới dạng tuple\n",
        "  \n",
        "  - np.ones() tạo ra mảng có các giá trị bằng 1\n",
        "    - Đầu vào là chiều của mảng dưới dạng tuple\n",
        "  \n",
        "  - np.full() tạo ra mảng có các giá trị bằng nhau và bằng một số cho trước\n",
        "    - Đầu vào là chiều của mảng dưới dạng tuple và giá trị cho trước "
      ],
      "metadata": {
        "id": "IJZ7ye7Siak0"
      }
    },
    {
      "cell_type": "markdown",
      "source": [
        "###### a. Mảng 1 chiều\n",
        "np.zeros()"
      ],
      "metadata": {
        "id": "wbgp2LoMkbxe"
      }
    },
    {
      "cell_type": "code",
      "source": [
        "array_1D_zeros = np.zeros((6, ))"
      ],
      "metadata": {
        "id": "IRA_pquzkjAb"
      },
      "execution_count": null,
      "outputs": []
    },
    {
      "cell_type": "code",
      "source": [
        "array_1D_zeros"
      ],
      "metadata": {
        "colab": {
          "base_uri": "https://localhost:8080/"
        },
        "id": "TkICrj_QlFNQ",
        "outputId": "42497e4c-497a-4c9c-fa05-d9644f9fbc81"
      },
      "execution_count": null,
      "outputs": [
        {
          "output_type": "execute_result",
          "data": {
            "text/plain": [
              "array([0., 0., 0., 0., 0., 0.])"
            ]
          },
          "metadata": {},
          "execution_count": 17
        }
      ]
    },
    {
      "cell_type": "markdown",
      "source": [
        "np.ones()"
      ],
      "metadata": {
        "id": "Ut_W3u9plUP4"
      }
    },
    {
      "cell_type": "code",
      "source": [
        "array_1D_ones = np.ones((7, ))"
      ],
      "metadata": {
        "id": "fuDYVue9lV0j"
      },
      "execution_count": null,
      "outputs": []
    },
    {
      "cell_type": "code",
      "source": [
        "array_1D_ones"
      ],
      "metadata": {
        "colab": {
          "base_uri": "https://localhost:8080/"
        },
        "id": "M4TOsM1XlbRi",
        "outputId": "2bef5fc9-b116-4a63-8a89-1dc4cacef5d9"
      },
      "execution_count": null,
      "outputs": [
        {
          "output_type": "execute_result",
          "data": {
            "text/plain": [
              "array([1., 1., 1., 1., 1., 1., 1.])"
            ]
          },
          "metadata": {},
          "execution_count": 19
        }
      ]
    },
    {
      "cell_type": "markdown",
      "source": [
        "np.full()"
      ],
      "metadata": {
        "id": "wG4ObXtymc0Y"
      }
    },
    {
      "cell_type": "code",
      "source": [
        "array_1D_full_twentyone = np.full((5, ), 21)"
      ],
      "metadata": {
        "id": "N3MGpeFwmf5o"
      },
      "execution_count": null,
      "outputs": []
    },
    {
      "cell_type": "code",
      "source": [
        "array_1D_full_twentyone"
      ],
      "metadata": {
        "colab": {
          "base_uri": "https://localhost:8080/"
        },
        "id": "_gOHt-eKmpwe",
        "outputId": "374175cf-fd89-48e3-a3f0-3e51b6199198"
      },
      "execution_count": null,
      "outputs": [
        {
          "output_type": "execute_result",
          "data": {
            "text/plain": [
              "array([21, 21, 21, 21, 21])"
            ]
          },
          "metadata": {},
          "execution_count": 24
        }
      ]
    },
    {
      "cell_type": "markdown",
      "source": [
        "###### b. Mảng 2 chiều\n",
        "np.zeros()"
      ],
      "metadata": {
        "id": "S7ri1r0DnWWN"
      }
    },
    {
      "cell_type": "code",
      "source": [
        "array_2D_zeros = np.zeros((5, 7))"
      ],
      "metadata": {
        "id": "W9NAzdaJnksp"
      },
      "execution_count": null,
      "outputs": []
    },
    {
      "cell_type": "code",
      "source": [
        "array_2D_zeros"
      ],
      "metadata": {
        "colab": {
          "base_uri": "https://localhost:8080/"
        },
        "id": "5IZqcj9OnynI",
        "outputId": "484983fe-9780-489a-8c3f-c952ab725928"
      },
      "execution_count": null,
      "outputs": [
        {
          "output_type": "execute_result",
          "data": {
            "text/plain": [
              "array([[0., 0., 0., 0., 0., 0., 0.],\n",
              "       [0., 0., 0., 0., 0., 0., 0.],\n",
              "       [0., 0., 0., 0., 0., 0., 0.],\n",
              "       [0., 0., 0., 0., 0., 0., 0.],\n",
              "       [0., 0., 0., 0., 0., 0., 0.]])"
            ]
          },
          "metadata": {},
          "execution_count": 26
        }
      ]
    },
    {
      "cell_type": "markdown",
      "source": [
        "np.ones()"
      ],
      "metadata": {
        "id": "jujMxl__n4wb"
      }
    },
    {
      "cell_type": "code",
      "source": [
        "array_2D_ones = np.ones((6, 3))"
      ],
      "metadata": {
        "id": "-0nZqXxqn6jz"
      },
      "execution_count": null,
      "outputs": []
    },
    {
      "cell_type": "code",
      "source": [
        "array_2D_ones"
      ],
      "metadata": {
        "colab": {
          "base_uri": "https://localhost:8080/"
        },
        "id": "nwAtD5W7oLW3",
        "outputId": "44fefdbe-8352-425f-f884-b2afc73c7570"
      },
      "execution_count": null,
      "outputs": [
        {
          "output_type": "execute_result",
          "data": {
            "text/plain": [
              "array([[1., 1., 1.],\n",
              "       [1., 1., 1.],\n",
              "       [1., 1., 1.],\n",
              "       [1., 1., 1.],\n",
              "       [1., 1., 1.],\n",
              "       [1., 1., 1.]])"
            ]
          },
          "metadata": {},
          "execution_count": 28
        }
      ]
    },
    {
      "cell_type": "markdown",
      "source": [
        "np.full()"
      ],
      "metadata": {
        "id": "JWlANTozoS9N"
      }
    },
    {
      "cell_type": "code",
      "source": [
        "array_2D_full_five = np.full((4, 3), 5)"
      ],
      "metadata": {
        "id": "nCThTTMuoUXD"
      },
      "execution_count": null,
      "outputs": []
    },
    {
      "cell_type": "code",
      "source": [
        "array_2D_full_five"
      ],
      "metadata": {
        "colab": {
          "base_uri": "https://localhost:8080/"
        },
        "id": "M_xWMtMDpQQt",
        "outputId": "d05933de-f967-4c45-de2b-af7ea0e088f0"
      },
      "execution_count": null,
      "outputs": [
        {
          "output_type": "execute_result",
          "data": {
            "text/plain": [
              "array([[5, 5, 5],\n",
              "       [5, 5, 5],\n",
              "       [5, 5, 5],\n",
              "       [5, 5, 5]])"
            ]
          },
          "metadata": {},
          "execution_count": 30
        }
      ]
    },
    {
      "cell_type": "markdown",
      "source": [
        "###### c. Mảng 3 chiều\n",
        "np.zeros()"
      ],
      "metadata": {
        "id": "-8ay7R1cpU3c"
      }
    },
    {
      "cell_type": "code",
      "source": [
        "array_3D_zeros = np.zeros((3, 4, 5))"
      ],
      "metadata": {
        "id": "vsCCTOy3pcM4"
      },
      "execution_count": null,
      "outputs": []
    },
    {
      "cell_type": "code",
      "source": [
        "array_3D_zeros"
      ],
      "metadata": {
        "colab": {
          "base_uri": "https://localhost:8080/"
        },
        "id": "UXzQ6UFNp2s6",
        "outputId": "6590a6e1-f5bc-4125-b994-73713b23665b"
      },
      "execution_count": null,
      "outputs": [
        {
          "output_type": "execute_result",
          "data": {
            "text/plain": [
              "array([[[0., 0., 0., 0., 0.],\n",
              "        [0., 0., 0., 0., 0.],\n",
              "        [0., 0., 0., 0., 0.],\n",
              "        [0., 0., 0., 0., 0.]],\n",
              "\n",
              "       [[0., 0., 0., 0., 0.],\n",
              "        [0., 0., 0., 0., 0.],\n",
              "        [0., 0., 0., 0., 0.],\n",
              "        [0., 0., 0., 0., 0.]],\n",
              "\n",
              "       [[0., 0., 0., 0., 0.],\n",
              "        [0., 0., 0., 0., 0.],\n",
              "        [0., 0., 0., 0., 0.],\n",
              "        [0., 0., 0., 0., 0.]]])"
            ]
          },
          "metadata": {},
          "execution_count": 32
        }
      ]
    },
    {
      "cell_type": "markdown",
      "source": [
        "np.ones()"
      ],
      "metadata": {
        "id": "-AJ2HvBQqcVu"
      }
    },
    {
      "cell_type": "code",
      "source": [
        "array_3D_ones = np.ones((5, 6, 2))"
      ],
      "metadata": {
        "id": "qImho8rXqd6k"
      },
      "execution_count": null,
      "outputs": []
    },
    {
      "cell_type": "code",
      "source": [
        "array_3D_ones"
      ],
      "metadata": {
        "colab": {
          "base_uri": "https://localhost:8080/"
        },
        "id": "r8SkQhTwqnjr",
        "outputId": "e991f9c8-8399-4aa9-d577-f6e6bdf661d9"
      },
      "execution_count": null,
      "outputs": [
        {
          "output_type": "execute_result",
          "data": {
            "text/plain": [
              "array([[[1., 1.],\n",
              "        [1., 1.],\n",
              "        [1., 1.],\n",
              "        [1., 1.],\n",
              "        [1., 1.],\n",
              "        [1., 1.]],\n",
              "\n",
              "       [[1., 1.],\n",
              "        [1., 1.],\n",
              "        [1., 1.],\n",
              "        [1., 1.],\n",
              "        [1., 1.],\n",
              "        [1., 1.]],\n",
              "\n",
              "       [[1., 1.],\n",
              "        [1., 1.],\n",
              "        [1., 1.],\n",
              "        [1., 1.],\n",
              "        [1., 1.],\n",
              "        [1., 1.]],\n",
              "\n",
              "       [[1., 1.],\n",
              "        [1., 1.],\n",
              "        [1., 1.],\n",
              "        [1., 1.],\n",
              "        [1., 1.],\n",
              "        [1., 1.]],\n",
              "\n",
              "       [[1., 1.],\n",
              "        [1., 1.],\n",
              "        [1., 1.],\n",
              "        [1., 1.],\n",
              "        [1., 1.],\n",
              "        [1., 1.]]])"
            ]
          },
          "metadata": {},
          "execution_count": 34
        }
      ]
    },
    {
      "cell_type": "markdown",
      "source": [
        "np.full()"
      ],
      "metadata": {
        "id": "3cL_e9jIqsgJ"
      }
    },
    {
      "cell_type": "code",
      "source": [
        "array_3D_full_two = np.full((2, 5, 6), 2)"
      ],
      "metadata": {
        "id": "M0vBXVYDqtxj"
      },
      "execution_count": null,
      "outputs": []
    },
    {
      "cell_type": "code",
      "source": [
        "array_3D_full_two"
      ],
      "metadata": {
        "colab": {
          "base_uri": "https://localhost:8080/"
        },
        "id": "Up0BZSM3q1nd",
        "outputId": "8fcc4a2d-9408-4e08-8b12-8ac6c27e5cf7"
      },
      "execution_count": null,
      "outputs": [
        {
          "output_type": "execute_result",
          "data": {
            "text/plain": [
              "array([[[2, 2, 2, 2, 2, 2],\n",
              "        [2, 2, 2, 2, 2, 2],\n",
              "        [2, 2, 2, 2, 2, 2],\n",
              "        [2, 2, 2, 2, 2, 2],\n",
              "        [2, 2, 2, 2, 2, 2]],\n",
              "\n",
              "       [[2, 2, 2, 2, 2, 2],\n",
              "        [2, 2, 2, 2, 2, 2],\n",
              "        [2, 2, 2, 2, 2, 2],\n",
              "        [2, 2, 2, 2, 2, 2],\n",
              "        [2, 2, 2, 2, 2, 2]]])"
            ]
          },
          "metadata": {},
          "execution_count": 36
        }
      ]
    },
    {
      "cell_type": "markdown",
      "source": [
        "##### 3. np.eye()\n",
        "  - Tạo ra một ma trận đơn vị"
      ],
      "metadata": {
        "id": "FiOp67l5q9aF"
      }
    },
    {
      "cell_type": "code",
      "source": [
        "np.eye((6))"
      ],
      "metadata": {
        "colab": {
          "base_uri": "https://localhost:8080/"
        },
        "id": "zcyO9bx5FXBR",
        "outputId": "3316397b-8d3c-42c6-957a-4b5b18de1e66"
      },
      "execution_count": 4,
      "outputs": [
        {
          "output_type": "execute_result",
          "data": {
            "text/plain": [
              "array([[1., 0., 0., 0., 0., 0.],\n",
              "       [0., 1., 0., 0., 0., 0.],\n",
              "       [0., 0., 1., 0., 0., 0.],\n",
              "       [0., 0., 0., 1., 0., 0.],\n",
              "       [0., 0., 0., 0., 1., 0.],\n",
              "       [0., 0., 0., 0., 0., 1.]])"
            ]
          },
          "metadata": {},
          "execution_count": 4
        }
      ]
    },
    {
      "cell_type": "markdown",
      "source": [
        "##### 4. np.arange()\n",
        " - Tạo một mảng chạy từ 0 -> 8"
      ],
      "metadata": {
        "id": "GH6YM_36FoCY"
      }
    },
    {
      "cell_type": "code",
      "source": [
        "np.arange(8)"
      ],
      "metadata": {
        "colab": {
          "base_uri": "https://localhost:8080/"
        },
        "id": "mz71rhaLFwLC",
        "outputId": "168e8732-3731-4cd3-da21-7642c853668e"
      },
      "execution_count": 5,
      "outputs": [
        {
          "output_type": "execute_result",
          "data": {
            "text/plain": [
              "array([0, 1, 2, 3, 4, 5, 6, 7])"
            ]
          },
          "metadata": {},
          "execution_count": 5
        }
      ]
    },
    {
      "cell_type": "markdown",
      "source": [
        "  - Tạo một mảng chạy từ 5 -> 15"
      ],
      "metadata": {
        "id": "RthGV4ljF5WO"
      }
    },
    {
      "cell_type": "code",
      "source": [
        "np.arange(5, 15)"
      ],
      "metadata": {
        "colab": {
          "base_uri": "https://localhost:8080/"
        },
        "id": "-bOES6GrF-SZ",
        "outputId": "7bc7715a-118d-4e73-8a63-92084e4da324"
      },
      "execution_count": 6,
      "outputs": [
        {
          "output_type": "execute_result",
          "data": {
            "text/plain": [
              "array([ 5,  6,  7,  8,  9, 10, 11, 12, 13, 14])"
            ]
          },
          "metadata": {},
          "execution_count": 6
        }
      ]
    },
    {
      "cell_type": "markdown",
      "source": [
        "  - Tạo một mảng chạy từ 0 -> 12 và mỗi phần tử cách nhau 2 đơn vị"
      ],
      "metadata": {
        "id": "Jp7ZOZ_6GCAg"
      }
    },
    {
      "cell_type": "code",
      "source": [
        "np.arange(0, 12, 2)"
      ],
      "metadata": {
        "colab": {
          "base_uri": "https://localhost:8080/"
        },
        "id": "4FsMcC6NGIIC",
        "outputId": "5ed43a81-4f2d-4167-fa40-dd4ebf192077"
      },
      "execution_count": 7,
      "outputs": [
        {
          "output_type": "execute_result",
          "data": {
            "text/plain": [
              "array([ 0,  2,  4,  6,  8, 10])"
            ]
          },
          "metadata": {},
          "execution_count": 7
        }
      ]
    },
    {
      "cell_type": "markdown",
      "source": [
        "##### 5. np.random.random()\n",
        "  - Tạo một ma trận với các giá trị ngẫu nhiên"
      ],
      "metadata": {
        "id": "WwshcEzsGO0a"
      }
    },
    {
      "cell_type": "code",
      "source": [
        "np.random.random((5, 8))"
      ],
      "metadata": {
        "colab": {
          "base_uri": "https://localhost:8080/"
        },
        "id": "fwLLU8vzGUsq",
        "outputId": "a364e70c-b7c7-43bc-b411-475eb5a16099"
      },
      "execution_count": 9,
      "outputs": [
        {
          "output_type": "execute_result",
          "data": {
            "text/plain": [
              "array([[0.26732497, 0.79956576, 0.20870024, 0.63119461, 0.25588551,\n",
              "        0.66399885, 0.04062925, 0.66392159],\n",
              "       [0.45081932, 0.65307809, 0.4929539 , 0.85242613, 0.54109441,\n",
              "        0.25950598, 0.31921717, 0.25181869],\n",
              "       [0.23039461, 0.40296619, 0.01003726, 0.08947942, 0.74743044,\n",
              "        0.44233326, 0.77679527, 0.45490816],\n",
              "       [0.05834876, 0.48970114, 0.21985538, 0.04384252, 0.61534148,\n",
              "        0.23699899, 0.21474943, 0.35269348],\n",
              "       [0.43415143, 0.14750362, 0.36606413, 0.67082837, 0.68829589,\n",
              "        0.4475433 , 0.14270888, 0.37337436]])"
            ]
          },
          "metadata": {},
          "execution_count": 9
        }
      ]
    },
    {
      "cell_type": "markdown",
      "source": [
        "Vào đây để tìm hiểu thêm [Numpy (Array)](https://numpy.org/doc/stable/reference/generated/numpy.array.html)"
      ],
      "metadata": {
        "id": "TRtry6FjG2PT"
      }
    }
  ]
}