{
  "nbformat": 4,
  "nbformat_minor": 0,
  "metadata": {
    "colab": {
      "name": "manipulation.ipynb",
      "provenance": []
    },
    "kernelspec": {
      "name": "python3",
      "display_name": "Python 3"
    },
    "language_info": {
      "name": "python"
    }
  },
  "cells": [
    {
      "cell_type": "markdown",
      "source": [
        "### Manipulation - Thay Đổi\n",
        "-----------------------------------------------------------------------------\n",
        "\n",
        "Xem thêm về [Manipulation](https://www.tutorialspoint.com/numpy/numpy_array_manipulation.htm)"
      ],
      "metadata": {
        "id": "Gr55fXdlDe8C"
      }
    },
    {
      "cell_type": "markdown",
      "source": [
        "#### I. Thay đổi kích thước mảng\n",
        "\n",
        "**1. reshape()**\n",
        "  - Trả về mảng với kích thước được thay đổi"
      ],
      "metadata": {
        "id": "KHBQhgltD6QO"
      }
    },
    {
      "cell_type": "code",
      "source": [
        "import numpy as np"
      ],
      "metadata": {
        "id": "O15gJg96EHqg"
      },
      "execution_count": 1,
      "outputs": []
    },
    {
      "cell_type": "code",
      "source": [
        "array_2D = np.array([\n",
        "      [1, 2, 3, 4],               \n",
        "      [9, 8, 7, 6]              \n",
        "])"
      ],
      "metadata": {
        "id": "QWNwYGHBEMHX"
      },
      "execution_count": 2,
      "outputs": []
    },
    {
      "cell_type": "code",
      "source": [
        "array_2D.shape"
      ],
      "metadata": {
        "colab": {
          "base_uri": "https://localhost:8080/"
        },
        "id": "PoRdaO-5Ea3h",
        "outputId": "6ba70c65-30d8-40be-a3cd-a19076aae894"
      },
      "execution_count": 3,
      "outputs": [
        {
          "output_type": "execute_result",
          "data": {
            "text/plain": [
              "(2, 4)"
            ]
          },
          "metadata": {},
          "execution_count": 3
        }
      ]
    },
    {
      "cell_type": "markdown",
      "source": [
        "  - Trả về mảng 3 chiều với (2, 2, 2) từ mảng 2 chiều với (2, 4)"
      ],
      "metadata": {
        "id": "B0cgoOxbEo6r"
      }
    },
    {
      "cell_type": "code",
      "source": [
        "array_3D = array_2D.reshape(2, 2, 2)"
      ],
      "metadata": {
        "id": "3WcgCm8eEvBf"
      },
      "execution_count": 4,
      "outputs": []
    },
    {
      "cell_type": "code",
      "source": [
        "array_3D"
      ],
      "metadata": {
        "colab": {
          "base_uri": "https://localhost:8080/"
        },
        "id": "5k2xKD1eE-1d",
        "outputId": "ad22696d-473f-4d66-ce60-e9a4534a0cc6"
      },
      "execution_count": 5,
      "outputs": [
        {
          "output_type": "execute_result",
          "data": {
            "text/plain": [
              "array([[[1, 2],\n",
              "        [3, 4]],\n",
              "\n",
              "       [[9, 8],\n",
              "        [7, 6]]])"
            ]
          },
          "metadata": {},
          "execution_count": 5
        }
      ]
    },
    {
      "cell_type": "code",
      "source": [
        "array_3D.shape"
      ],
      "metadata": {
        "colab": {
          "base_uri": "https://localhost:8080/"
        },
        "id": "MO1jmek3FC0w",
        "outputId": "0fd4bd2b-7dbe-4e5c-afa6-6fa0cc8cbfc8"
      },
      "execution_count": 6,
      "outputs": [
        {
          "output_type": "execute_result",
          "data": {
            "text/plain": [
              "(2, 2, 2)"
            ]
          },
          "metadata": {},
          "execution_count": 6
        }
      ]
    },
    {
      "cell_type": "markdown",
      "source": [
        "**2. flatten()**\n",
        "  - Trả về một mảng được duỗi còn 1 chiều"
      ],
      "metadata": {
        "id": "bb1-r4uZFQMJ"
      }
    },
    {
      "cell_type": "code",
      "source": [
        "numbers_array = np.random.random((3, 3, 2))"
      ],
      "metadata": {
        "id": "TBVfqAi2FV4Q"
      },
      "execution_count": 7,
      "outputs": []
    },
    {
      "cell_type": "code",
      "source": [
        "numbers_array"
      ],
      "metadata": {
        "colab": {
          "base_uri": "https://localhost:8080/"
        },
        "id": "S_d0OaPCFh45",
        "outputId": "aee0e581-9c6e-41ca-dc17-c3befdb21336"
      },
      "execution_count": 8,
      "outputs": [
        {
          "output_type": "execute_result",
          "data": {
            "text/plain": [
              "array([[[0.67552578, 0.86286637],\n",
              "        [0.27983996, 0.1731422 ],\n",
              "        [0.8624202 , 0.04141686]],\n",
              "\n",
              "       [[0.51967836, 0.63446146],\n",
              "        [0.15645091, 0.29883828],\n",
              "        [0.87067092, 0.18030923]],\n",
              "\n",
              "       [[0.99943871, 0.13862489],\n",
              "        [0.28747384, 0.71805143],\n",
              "        [0.59137342, 0.98552031]]])"
            ]
          },
          "metadata": {},
          "execution_count": 8
        }
      ]
    },
    {
      "cell_type": "code",
      "source": [
        "numbers_array.shape"
      ],
      "metadata": {
        "colab": {
          "base_uri": "https://localhost:8080/"
        },
        "id": "DgW0y13LFnd6",
        "outputId": "0bd3f1a0-ffb1-4074-8693-b53d0c6644d1"
      },
      "execution_count": 9,
      "outputs": [
        {
          "output_type": "execute_result",
          "data": {
            "text/plain": [
              "(3, 3, 2)"
            ]
          },
          "metadata": {},
          "execution_count": 9
        }
      ]
    },
    {
      "cell_type": "code",
      "source": [
        "flatten_numbers_array = numbers_array.flatten()"
      ],
      "metadata": {
        "id": "pz1AthB5FqHf"
      },
      "execution_count": 10,
      "outputs": []
    },
    {
      "cell_type": "code",
      "source": [
        "flatten_numbers_array"
      ],
      "metadata": {
        "colab": {
          "base_uri": "https://localhost:8080/"
        },
        "id": "mncfSMDpFwtg",
        "outputId": "bca10c65-4537-442d-a706-5a47718c0ce1"
      },
      "execution_count": 12,
      "outputs": [
        {
          "output_type": "execute_result",
          "data": {
            "text/plain": [
              "array([0.67552578, 0.86286637, 0.27983996, 0.1731422 , 0.8624202 ,\n",
              "       0.04141686, 0.51967836, 0.63446146, 0.15645091, 0.29883828,\n",
              "       0.87067092, 0.18030923, 0.99943871, 0.13862489, 0.28747384,\n",
              "       0.71805143, 0.59137342, 0.98552031])"
            ]
          },
          "metadata": {},
          "execution_count": 12
        }
      ]
    },
    {
      "cell_type": "code",
      "source": [
        "flatten_numbers_array.shape"
      ],
      "metadata": {
        "colab": {
          "base_uri": "https://localhost:8080/"
        },
        "id": "QNdx4arhF2Bc",
        "outputId": "40347db2-57ff-44d7-951f-13b8c29edc28"
      },
      "execution_count": 13,
      "outputs": [
        {
          "output_type": "execute_result",
          "data": {
            "text/plain": [
              "(18,)"
            ]
          },
          "metadata": {},
          "execution_count": 13
        }
      ]
    },
    {
      "cell_type": "markdown",
      "source": [
        "**3. expand_dims()**\n",
        "  - Trả về mảng mới được thêm chiều"
      ],
      "metadata": {
        "id": "l-L_omxNF6ZG"
      }
    },
    {
      "cell_type": "code",
      "source": [
        "array_2D = np.array([[2.5, 1.5], [4.5, 3.5]])"
      ],
      "metadata": {
        "id": "xO-oYwwgGBjV"
      },
      "execution_count": 14,
      "outputs": []
    },
    {
      "cell_type": "code",
      "source": [
        "array_2D.shape"
      ],
      "metadata": {
        "colab": {
          "base_uri": "https://localhost:8080/"
        },
        "id": "wF3gWdndGNUU",
        "outputId": "749130f8-c75a-4b41-e0b2-7024ad8c3138"
      },
      "execution_count": 15,
      "outputs": [
        {
          "output_type": "execute_result",
          "data": {
            "text/plain": [
              "(2, 2)"
            ]
          },
          "metadata": {},
          "execution_count": 15
        }
      ]
    },
    {
      "cell_type": "markdown",
      "source": [
        "  - Mở rộng theo dòng axis = 0"
      ],
      "metadata": {
        "id": "FbUi8E9VGUOo"
      }
    },
    {
      "cell_type": "code",
      "source": [
        "array_3D_axis_0 = np.expand_dims(array_2D, axis=0)"
      ],
      "metadata": {
        "id": "Dru25l-OGXS-"
      },
      "execution_count": 16,
      "outputs": []
    },
    {
      "cell_type": "code",
      "source": [
        "array_3D_axis_0"
      ],
      "metadata": {
        "colab": {
          "base_uri": "https://localhost:8080/"
        },
        "id": "OR7BAqbAGcjY",
        "outputId": "c47af274-0f24-48c3-d441-af3107665eab"
      },
      "execution_count": 17,
      "outputs": [
        {
          "output_type": "execute_result",
          "data": {
            "text/plain": [
              "array([[[2.5, 1.5],\n",
              "        [4.5, 3.5]]])"
            ]
          },
          "metadata": {},
          "execution_count": 17
        }
      ]
    },
    {
      "cell_type": "code",
      "source": [
        "array_3D_axis_0.shape"
      ],
      "metadata": {
        "colab": {
          "base_uri": "https://localhost:8080/"
        },
        "id": "VxFdURXkGhB3",
        "outputId": "6c29e169-c0e8-4a8d-91b0-a4052fd1aea6"
      },
      "execution_count": 18,
      "outputs": [
        {
          "output_type": "execute_result",
          "data": {
            "text/plain": [
              "(1, 2, 2)"
            ]
          },
          "metadata": {},
          "execution_count": 18
        }
      ]
    },
    {
      "cell_type": "markdown",
      "source": [
        "  - Mở rộng theo dòng axis = 1"
      ],
      "metadata": {
        "id": "Sep-cIjjGi1g"
      }
    },
    {
      "cell_type": "code",
      "source": [
        "array_3D_axis_1 = np.expand_dims(array_2D, axis=1)"
      ],
      "metadata": {
        "id": "TJuyKGNsGmcA"
      },
      "execution_count": 19,
      "outputs": []
    },
    {
      "cell_type": "code",
      "source": [
        "array_3D_axis_1"
      ],
      "metadata": {
        "colab": {
          "base_uri": "https://localhost:8080/"
        },
        "id": "sTx5kT_LGqPT",
        "outputId": "0c4e3d02-8953-41d8-fcb8-33f65c9add80"
      },
      "execution_count": 20,
      "outputs": [
        {
          "output_type": "execute_result",
          "data": {
            "text/plain": [
              "array([[[2.5, 1.5]],\n",
              "\n",
              "       [[4.5, 3.5]]])"
            ]
          },
          "metadata": {},
          "execution_count": 20
        }
      ]
    },
    {
      "cell_type": "code",
      "source": [
        "array_3D_axis_1.shape"
      ],
      "metadata": {
        "colab": {
          "base_uri": "https://localhost:8080/"
        },
        "id": "4ZBq361QGuFS",
        "outputId": "1a46dd19-a468-4833-be03-e7e856e20a71"
      },
      "execution_count": 21,
      "outputs": [
        {
          "output_type": "execute_result",
          "data": {
            "text/plain": [
              "(2, 1, 2)"
            ]
          },
          "metadata": {},
          "execution_count": 21
        }
      ]
    },
    {
      "cell_type": "markdown",
      "source": [
        "**4. squeeze()**\n",
        "  - Trả về mảng mới được giảm chiều"
      ],
      "metadata": {
        "id": "2p9qaGKeG5XQ"
      }
    },
    {
      "cell_type": "code",
      "source": [
        "array_3D_axis_0 = np.random.random((1, 20, 20))"
      ],
      "metadata": {
        "id": "hlDjxhd1G8xl"
      },
      "execution_count": 22,
      "outputs": []
    },
    {
      "cell_type": "code",
      "source": [
        "array_2D_axis_0 = np.squeeze(array_3D_axis_0, axis=0)"
      ],
      "metadata": {
        "id": "wYNInVDNHDPk"
      },
      "execution_count": 23,
      "outputs": []
    },
    {
      "cell_type": "code",
      "source": [
        "array_2D_axis_0.shape"
      ],
      "metadata": {
        "colab": {
          "base_uri": "https://localhost:8080/"
        },
        "id": "XlOVic40HLFN",
        "outputId": "b7c4318c-19c3-49bd-9d45-2371e1c610d5"
      },
      "execution_count": 24,
      "outputs": [
        {
          "output_type": "execute_result",
          "data": {
            "text/plain": [
              "(20, 20)"
            ]
          },
          "metadata": {},
          "execution_count": 24
        }
      ]
    },
    {
      "cell_type": "code",
      "source": [
        "array_3D_axis_1 = np.random.random((21, 1, 21))"
      ],
      "metadata": {
        "id": "oNDgy7QCHNLS"
      },
      "execution_count": 25,
      "outputs": []
    },
    {
      "cell_type": "code",
      "source": [
        "array_2D_axis_1 = np.squeeze(array_3D_axis_1, axis=1)"
      ],
      "metadata": {
        "id": "s6g1frd7HR-r"
      },
      "execution_count": 26,
      "outputs": []
    },
    {
      "cell_type": "code",
      "source": [
        "array_2D_axis_1.shape"
      ],
      "metadata": {
        "colab": {
          "base_uri": "https://localhost:8080/"
        },
        "id": "L3OOrOxKHWtD",
        "outputId": "94bdd68d-91d4-40a3-c75e-14d8fce4f06e"
      },
      "execution_count": 28,
      "outputs": [
        {
          "output_type": "execute_result",
          "data": {
            "text/plain": [
              "(21, 21)"
            ]
          },
          "metadata": {},
          "execution_count": 28
        }
      ]
    },
    {
      "cell_type": "markdown",
      "source": [
        "#### II. Chuyển vị\n",
        "  - Tìm hiểu lại ở phần kiến thức [Chuyển vị](https://github.com/Khoa-21501/learn-MachineLearning-akaicheese/blob/main/math/README.md)\n",
        "\n",
        "  ![Screenshot (189).png](data:image/png;base64,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)"
      ],
      "metadata": {
        "id": "xsEgE_D7HgOy"
      }
    },
    {
      "cell_type": "code",
      "source": [
        "array_2D = np.array([\n",
        "      [1, 2, 3],\n",
        "      [4, 5, 6],\n",
        "      [7, 8, 9]               \n",
        "])"
      ],
      "metadata": {
        "id": "iV_FTWGZH5ty"
      },
      "execution_count": 29,
      "outputs": []
    },
    {
      "cell_type": "code",
      "source": [
        "array_2D"
      ],
      "metadata": {
        "colab": {
          "base_uri": "https://localhost:8080/"
        },
        "id": "M5LfcxajIEc1",
        "outputId": "e456d4fa-a4b1-40fa-dd03-6e434f9154c0"
      },
      "execution_count": 30,
      "outputs": [
        {
          "output_type": "execute_result",
          "data": {
            "text/plain": [
              "array([[1, 2, 3],\n",
              "       [4, 5, 6],\n",
              "       [7, 8, 9]])"
            ]
          },
          "metadata": {},
          "execution_count": 30
        }
      ]
    },
    {
      "cell_type": "code",
      "source": [
        "array_2D.shape"
      ],
      "metadata": {
        "colab": {
          "base_uri": "https://localhost:8080/"
        },
        "id": "jWG-NBU3IIz4",
        "outputId": "8031a473-b92e-4a59-af4c-1b086ab7d821"
      },
      "execution_count": 31,
      "outputs": [
        {
          "output_type": "execute_result",
          "data": {
            "text/plain": [
              "(3, 3)"
            ]
          },
          "metadata": {},
          "execution_count": 31
        }
      ]
    },
    {
      "cell_type": "code",
      "source": [
        "tranposed_array_2D = array_2D.T"
      ],
      "metadata": {
        "id": "OHFi7fuRIMCX"
      },
      "execution_count": 32,
      "outputs": []
    },
    {
      "cell_type": "code",
      "source": [
        "tranposed_array_2D"
      ],
      "metadata": {
        "colab": {
          "base_uri": "https://localhost:8080/"
        },
        "id": "HtAfL8PfIRJy",
        "outputId": "541298cb-9093-4393-9203-8c6e1197af3a"
      },
      "execution_count": 33,
      "outputs": [
        {
          "output_type": "execute_result",
          "data": {
            "text/plain": [
              "array([[1, 4, 7],\n",
              "       [2, 5, 8],\n",
              "       [3, 6, 9]])"
            ]
          },
          "metadata": {},
          "execution_count": 33
        }
      ]
    },
    {
      "cell_type": "code",
      "source": [
        "tranposed_array_2D.shape"
      ],
      "metadata": {
        "colab": {
          "base_uri": "https://localhost:8080/"
        },
        "id": "CHr4FTDMIVT_",
        "outputId": "3346cf3e-6074-4963-821d-3aafa0cb9180"
      },
      "execution_count": 34,
      "outputs": [
        {
          "output_type": "execute_result",
          "data": {
            "text/plain": [
              "(3, 3)"
            ]
          },
          "metadata": {},
          "execution_count": 34
        }
      ]
    },
    {
      "cell_type": "markdown",
      "source": [
        "  - Cách tương tự"
      ],
      "metadata": {
        "id": "brzmQWDWIYZ2"
      }
    },
    {
      "cell_type": "code",
      "source": [
        "tranposed_array_2D_v2 = np.transpose(array_2D)"
      ],
      "metadata": {
        "id": "6tTEaLiiIZ6Q"
      },
      "execution_count": 35,
      "outputs": []
    },
    {
      "cell_type": "code",
      "source": [
        "tranposed_array_2D_v2"
      ],
      "metadata": {
        "colab": {
          "base_uri": "https://localhost:8080/"
        },
        "id": "EB0RtRRHIrB5",
        "outputId": "389d77af-0751-4410-96ca-a8ae10d652b2"
      },
      "execution_count": 36,
      "outputs": [
        {
          "output_type": "execute_result",
          "data": {
            "text/plain": [
              "array([[1, 4, 7],\n",
              "       [2, 5, 8],\n",
              "       [3, 6, 9]])"
            ]
          },
          "metadata": {},
          "execution_count": 36
        }
      ]
    },
    {
      "cell_type": "code",
      "source": [
        "tranposed_array_2D_v2.shape"
      ],
      "metadata": {
        "id": "YJAfvRYNItdL",
        "outputId": "81e0be8d-b527-4c8e-e153-773528f04aa3",
        "colab": {
          "base_uri": "https://localhost:8080/"
        }
      },
      "execution_count": 37,
      "outputs": [
        {
          "output_type": "execute_result",
          "data": {
            "text/plain": [
              "(3, 3)"
            ]
          },
          "metadata": {},
          "execution_count": 37
        }
      ]
    }
  ]
}